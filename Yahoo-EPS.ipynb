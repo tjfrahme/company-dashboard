{
 "cells": [
  {
   "cell_type": "code",
   "execution_count": 3,
   "metadata": {},
   "outputs": [],
   "source": [
    "from bs4 import BeautifulSoup\n",
    "import requests\n",
    "from csv import writer, reader"
   ]
  },
  {
   "cell_type": "code",
   "execution_count": 100,
   "metadata": {},
   "outputs": [],
   "source": [
    "response = requests.get('https://finance.yahoo.com/calendar/earnings?day=2019-03-04')\n",
    "soup = BeautifulSoup(response.text, 'html.parser')"
   ]
  },
  {
   "cell_type": "code",
   "execution_count": 101,
   "metadata": {},
   "outputs": [
    {
     "data": {
      "text/plain": [
       "[<tr class=\"simpTblRow Bgc($extraLightBlue):h BdB Bdbc($finLightGrayAlt) Bdbc($tableBorderBlue):h H(32px) Bgc(white) \" data-reactid=\"36\"><td aria-label=\"Symbol\" class=\"Va(m) Fz(s) Ta(start) Pstart(6px) Pend(10px) W(10%) Miw(85px) Start(0) Pend(10px) simpTblRow:h_Bgc($extraLightBlue) Bgc(white) \" data-reactid=\"37\"><a class=\"Fw(600)\" data-reactid=\"38\" href=\"/quote/VNET?p=VNET\" title=\"\">VNET</a></td><td aria-label=\"Company\" class=\"Va(m) Fz(s) Ta(start) Pend(10px) Pstart(6px)\" data-reactid=\"39\"><!-- react-text: 40 -->21Vianet Group Inc<!-- /react-text --></td><td aria-label=\"Earnings Call Time\" class=\"Va(m) Fz(s) Ta(end) Pstart(15px) W(20%)\" data-reactid=\"41\"><!-- react-text: 42 -->TAS<!-- /react-text --></td><td aria-label=\"EPS Estimate\" class=\"Va(m) Fz(s) Ta(end) Pstart(15px) W(10%)\" data-reactid=\"43\"><!-- react-text: 44 -->0.1<!-- /react-text --></td><td aria-label=\"Reported EPS\" class=\"Va(m) Fz(s) Ta(end) Pstart(15px) W(10%)\" data-reactid=\"45\"><!-- react-text: 46 -->-0.14<!-- /react-text --></td><td aria-label=\"Surprise(%)\" class=\"Va(m) Fz(s) Ta(end) Px(15px) W(10%)\" data-reactid=\"47\"><span class=\"Trsdu(0.3s) Fw(600) C($dataRed)\" data-reactid=\"48\">-240</span></td><td class=\"W(100%)\" data-reactid=\"49\"></td></tr>,\n",
       " <tr class=\"simpTblRow Bgc($extraLightBlue):h BdB Bdbc($finLightGrayAlt) Bdbc($tableBorderBlue):h H(32px) Bgc($altRowColor) \" data-reactid=\"50\"><td aria-label=\"Symbol\" class=\"Va(m) Fz(s) Ta(start) Pstart(6px) Pend(10px) W(10%) Miw(85px) Start(0) Pend(10px) simpTblRow:h_Bgc($extraLightBlue) Bgc($altRowColor) \" data-reactid=\"51\"><a class=\"Fw(600)\" data-reactid=\"52\" href=\"/quote/NAO?p=NAO\" title=\"\">NAO</a></td><td aria-label=\"Company\" class=\"Va(m) Fz(s) Ta(start) Pend(10px) Pstart(6px)\" data-reactid=\"53\"><!-- react-text: 54 -->Nordic American Offshore Ltd<!-- /react-text --></td><td aria-label=\"Earnings Call Time\" class=\"Va(m) Fz(s) Ta(end) Pstart(15px) W(20%)\" data-reactid=\"55\"><!-- react-text: 56 -->TAS<!-- /react-text --></td><td aria-label=\"EPS Estimate\" class=\"Va(m) Fz(s) Ta(end) Pstart(15px) W(10%)\" data-reactid=\"57\"><!-- react-text: 58 -->-0.8<!-- /react-text --></td><td aria-label=\"Reported EPS\" class=\"Va(m) Fz(s) Ta(end) Pstart(15px) W(10%)\" data-reactid=\"59\"><!-- react-text: 60 -->-1.41<!-- /react-text --></td><td aria-label=\"Surprise(%)\" class=\"Va(m) Fz(s) Ta(end) Px(15px) W(10%)\" data-reactid=\"61\"><span class=\"Trsdu(0.3s) Fw(600) C($dataRed)\" data-reactid=\"62\">-76.25</span></td><td class=\"W(100%)\" data-reactid=\"63\"></td></tr>,\n",
       " <tr class=\"simpTblRow Bgc($extraLightBlue):h BdB Bdbc($finLightGrayAlt) Bdbc($tableBorderBlue):h H(32px) Bgc(white) \" data-reactid=\"64\"><td aria-label=\"Symbol\" class=\"Va(m) Fz(s) Ta(start) Pstart(6px) Pend(10px) W(10%) Miw(85px) Start(0) Pend(10px) simpTblRow:h_Bgc($extraLightBlue) Bgc(white) \" data-reactid=\"65\"><a class=\"Fw(600)\" data-reactid=\"66\" href=\"/quote/DAVE?p=DAVE\" title=\"\">DAVE</a></td><td aria-label=\"Company\" class=\"Va(m) Fz(s) Ta(start) Pend(10px) Pstart(6px)\" data-reactid=\"67\"><!-- react-text: 68 -->Famous Dave's of America Inc<!-- /react-text --></td><td aria-label=\"Earnings Call Time\" class=\"Va(m) Fz(s) Ta(end) Pstart(15px) W(20%)\" data-reactid=\"69\"><!-- react-text: 70 -->TAS<!-- /react-text --></td><td aria-label=\"EPS Estimate\" class=\"Va(m) Fz(s) Ta(end) Pstart(15px) W(10%)\" data-reactid=\"71\"><!-- react-text: 72 -->0.06<!-- /react-text --></td><td aria-label=\"Reported EPS\" class=\"Va(m) Fz(s) Ta(end) Pstart(15px) W(10%)\" data-reactid=\"73\"><!-- react-text: 74 -->0.13<!-- /react-text --></td><td aria-label=\"Surprise(%)\" class=\"Va(m) Fz(s) Ta(end) Px(15px) W(10%)\" data-reactid=\"75\"><span class=\"Trsdu(0.3s) Fw(600) C($dataGreen)\" data-reactid=\"76\">+116.67</span></td><td class=\"W(100%)\" data-reactid=\"77\"></td></tr>,\n",
       " <tr class=\"simpTblRow Bgc($extraLightBlue):h BdB Bdbc($finLightGrayAlt) Bdbc($tableBorderBlue):h H(32px) Bgc($altRowColor) \" data-reactid=\"78\"><td aria-label=\"Symbol\" class=\"Va(m) Fz(s) Ta(start) Pstart(6px) Pend(10px) W(10%) Miw(85px) Start(0) Pend(10px) simpTblRow:h_Bgc($extraLightBlue) Bgc($altRowColor) \" data-reactid=\"79\"><a class=\"Fw(600)\" data-reactid=\"80\" href=\"/quote/POPE?p=POPE\" title=\"\">POPE</a></td><td aria-label=\"Company\" class=\"Va(m) Fz(s) Ta(start) Pend(10px) Pstart(6px)\" data-reactid=\"81\"><!-- react-text: 82 -->Pope Resources A Delaware LP<!-- /react-text --></td><td aria-label=\"Earnings Call Time\" class=\"Va(m) Fz(s) Ta(end) Pstart(15px) W(20%)\" data-reactid=\"83\"><span data-reactid=\"84\">Before Market Open</span></td><td aria-label=\"EPS Estimate\" class=\"Va(m) Fz(s) Ta(end) Pstart(15px) W(10%)\" data-reactid=\"85\"><span data-reactid=\"86\">N/A</span></td><td aria-label=\"Reported EPS\" class=\"Va(m) Fz(s) Ta(end) Pstart(15px) W(10%)\" data-reactid=\"87\"><span data-reactid=\"88\">N/A</span></td><td aria-label=\"Surprise(%)\" class=\"Va(m) Fz(s) Ta(end) Px(15px) W(10%)\" data-reactid=\"89\"><span data-reactid=\"90\">N/A</span></td><td class=\"W(100%)\" data-reactid=\"91\"></td></tr>,\n",
       " <tr class=\"simpTblRow Bgc($extraLightBlue):h BdB Bdbc($finLightGrayAlt) Bdbc($tableBorderBlue):h H(32px) Bgc(white) \" data-reactid=\"92\"><td aria-label=\"Symbol\" class=\"Va(m) Fz(s) Ta(start) Pstart(6px) Pend(10px) W(10%) Miw(85px) Start(0) Pend(10px) simpTblRow:h_Bgc($extraLightBlue) Bgc(white) \" data-reactid=\"93\"><a class=\"Fw(600)\" data-reactid=\"94\" href=\"/quote/ADMS?p=ADMS\" title=\"\">ADMS</a></td><td aria-label=\"Company\" class=\"Va(m) Fz(s) Ta(start) Pend(10px) Pstart(6px)\" data-reactid=\"95\"><!-- react-text: 96 -->Adamas Pharmaceuticals Inc<!-- /react-text --></td><td aria-label=\"Earnings Call Time\" class=\"Va(m) Fz(s) Ta(end) Pstart(15px) W(20%)\" data-reactid=\"97\"><!-- react-text: 98 -->TAS<!-- /react-text --></td><td aria-label=\"EPS Estimate\" class=\"Va(m) Fz(s) Ta(end) Pstart(15px) W(10%)\" data-reactid=\"99\"><!-- react-text: 100 -->-1.34<!-- /react-text --></td><td aria-label=\"Reported EPS\" class=\"Va(m) Fz(s) Ta(end) Pstart(15px) W(10%)\" data-reactid=\"101\"><!-- react-text: 102 -->-1.06<!-- /react-text --></td><td aria-label=\"Surprise(%)\" class=\"Va(m) Fz(s) Ta(end) Px(15px) W(10%)\" data-reactid=\"103\"><span class=\"Trsdu(0.3s) Fw(600) C($dataGreen)\" data-reactid=\"104\">+20.9</span></td><td class=\"W(100%)\" data-reactid=\"105\"></td></tr>,\n",
       " <tr class=\"simpTblRow Bgc($extraLightBlue):h BdB Bdbc($finLightGrayAlt) Bdbc($tableBorderBlue):h H(32px) Bgc($altRowColor) \" data-reactid=\"106\"><td aria-label=\"Symbol\" class=\"Va(m) Fz(s) Ta(start) Pstart(6px) Pend(10px) W(10%) Miw(85px) Start(0) Pend(10px) simpTblRow:h_Bgc($extraLightBlue) Bgc($altRowColor) \" data-reactid=\"107\"><a class=\"Fw(600)\" data-reactid=\"108\" href=\"/quote/AFH?p=AFH\" title=\"\">AFH</a></td><td aria-label=\"Company\" class=\"Va(m) Fz(s) Ta(start) Pend(10px) Pstart(6px)\" data-reactid=\"109\"><!-- react-text: 110 -->Atlas Financial Holdings Inc<!-- /react-text --></td><td aria-label=\"Earnings Call Time\" class=\"Va(m) Fz(s) Ta(end) Pstart(15px) W(20%)\" data-reactid=\"111\"><!-- react-text: 112 -->TAS<!-- /react-text --></td><td aria-label=\"EPS Estimate\" class=\"Va(m) Fz(s) Ta(end) Pstart(15px) W(10%)\" data-reactid=\"113\"><!-- react-text: 114 -->0.47<!-- /react-text --></td><td aria-label=\"Reported EPS\" class=\"Va(m) Fz(s) Ta(end) Pstart(15px) W(10%)\" data-reactid=\"115\"><!-- react-text: 116 -->-4.36<!-- /react-text --></td><td aria-label=\"Surprise(%)\" class=\"Va(m) Fz(s) Ta(end) Px(15px) W(10%)\" data-reactid=\"117\"><span class=\"Trsdu(0.3s) Fw(600) C($dataRed)\" data-reactid=\"118\">-1027.66</span></td><td class=\"W(100%)\" data-reactid=\"119\"></td></tr>,\n",
       " <tr class=\"simpTblRow Bgc($extraLightBlue):h BdB Bdbc($finLightGrayAlt) Bdbc($tableBorderBlue):h H(32px) Bgc(white) \" data-reactid=\"120\"><td aria-label=\"Symbol\" class=\"Va(m) Fz(s) Ta(start) Pstart(6px) Pend(10px) W(10%) Miw(85px) Start(0) Pend(10px) simpTblRow:h_Bgc($extraLightBlue) Bgc(white) \" data-reactid=\"121\"><a class=\"Fw(600)\" data-reactid=\"122\" href=\"/quote/ADUS?p=ADUS\" title=\"\">ADUS</a></td><td aria-label=\"Company\" class=\"Va(m) Fz(s) Ta(start) Pend(10px) Pstart(6px)\" data-reactid=\"123\"><!-- react-text: 124 -->Addus Homecare Corp<!-- /react-text --></td><td aria-label=\"Earnings Call Time\" class=\"Va(m) Fz(s) Ta(end) Pstart(15px) W(20%)\" data-reactid=\"125\"><span data-reactid=\"126\">After Market Close</span></td><td aria-label=\"EPS Estimate\" class=\"Va(m) Fz(s) Ta(end) Pstart(15px) W(10%)\" data-reactid=\"127\"><!-- react-text: 128 -->0.51<!-- /react-text --></td><td aria-label=\"Reported EPS\" class=\"Va(m) Fz(s) Ta(end) Pstart(15px) W(10%)\" data-reactid=\"129\"><!-- react-text: 130 -->0.55<!-- /react-text --></td><td aria-label=\"Surprise(%)\" class=\"Va(m) Fz(s) Ta(end) Px(15px) W(10%)\" data-reactid=\"131\"><span class=\"Trsdu(0.3s) Fw(600) C($dataGreen)\" data-reactid=\"132\">+7.84</span></td><td class=\"W(100%)\" data-reactid=\"133\"></td></tr>,\n",
       " <tr class=\"simpTblRow Bgc($extraLightBlue):h BdB Bdbc($finLightGrayAlt) Bdbc($tableBorderBlue):h H(32px) Bgc($altRowColor) \" data-reactid=\"134\"><td aria-label=\"Symbol\" class=\"Va(m) Fz(s) Ta(start) Pstart(6px) Pend(10px) W(10%) Miw(85px) Start(0) Pend(10px) simpTblRow:h_Bgc($extraLightBlue) Bgc($altRowColor) \" data-reactid=\"135\"><a class=\"Fw(600)\" data-reactid=\"136\" href=\"/quote/SESN?p=SESN\" title=\"\">SESN</a></td><td aria-label=\"Company\" class=\"Va(m) Fz(s) Ta(start) Pend(10px) Pstart(6px)\" data-reactid=\"137\"><!-- react-text: 138 -->Sesen Bio Inc<!-- /react-text --></td><td aria-label=\"Earnings Call Time\" class=\"Va(m) Fz(s) Ta(end) Pstart(15px) W(20%)\" data-reactid=\"139\"><!-- react-text: 140 -->TAS<!-- /react-text --></td><td aria-label=\"EPS Estimate\" class=\"Va(m) Fz(s) Ta(end) Pstart(15px) W(10%)\" data-reactid=\"141\"><!-- react-text: 142 -->-0.08<!-- /react-text --></td><td aria-label=\"Reported EPS\" class=\"Va(m) Fz(s) Ta(end) Pstart(15px) W(10%)\" data-reactid=\"143\"><!-- react-text: 144 -->-0.07<!-- /react-text --></td><td aria-label=\"Surprise(%)\" class=\"Va(m) Fz(s) Ta(end) Px(15px) W(10%)\" data-reactid=\"145\"><span class=\"Trsdu(0.3s) Fw(600) C($dataGreen)\" data-reactid=\"146\">+12.5</span></td><td class=\"W(100%)\" data-reactid=\"147\"></td></tr>,\n",
       " <tr class=\"simpTblRow Bgc($extraLightBlue):h BdB Bdbc($finLightGrayAlt) Bdbc($tableBorderBlue):h H(32px) Bgc(white) \" data-reactid=\"148\"><td aria-label=\"Symbol\" class=\"Va(m) Fz(s) Ta(start) Pstart(6px) Pend(10px) W(10%) Miw(85px) Start(0) Pend(10px) simpTblRow:h_Bgc($extraLightBlue) Bgc(white) \" data-reactid=\"149\"><a class=\"Fw(600)\" data-reactid=\"150\" href=\"/quote/BCRX?p=BCRX\" title=\"\">BCRX</a></td><td aria-label=\"Company\" class=\"Va(m) Fz(s) Ta(start) Pend(10px) Pstart(6px)\" data-reactid=\"151\"><!-- react-text: 152 -->BioCryst Pharmaceuticals Inc<!-- /react-text --></td><td aria-label=\"Earnings Call Time\" class=\"Va(m) Fz(s) Ta(end) Pstart(15px) W(20%)\" data-reactid=\"153\"><!-- react-text: 154 -->TAS<!-- /react-text --></td><td aria-label=\"EPS Estimate\" class=\"Va(m) Fz(s) Ta(end) Pstart(15px) W(10%)\" data-reactid=\"155\"><!-- react-text: 156 -->-0.25<!-- /react-text --></td><td aria-label=\"Reported EPS\" class=\"Va(m) Fz(s) Ta(end) Pstart(15px) W(10%)\" data-reactid=\"157\"><!-- react-text: 158 -->-0.25<!-- /react-text --></td><td aria-label=\"Surprise(%)\" class=\"Va(m) Fz(s) Ta(end) Px(15px) W(10%)\" data-reactid=\"159\"><span data-reactid=\"160\">N/A</span></td><td class=\"W(100%)\" data-reactid=\"161\"></td></tr>,\n",
       " <tr class=\"simpTblRow Bgc($extraLightBlue):h BdB Bdbc($finLightGrayAlt) Bdbc($tableBorderBlue):h H(32px) Bgc($altRowColor) \" data-reactid=\"162\"><td aria-label=\"Symbol\" class=\"Va(m) Fz(s) Ta(start) Pstart(6px) Pend(10px) W(10%) Miw(85px) Start(0) Pend(10px) simpTblRow:h_Bgc($extraLightBlue) Bgc($altRowColor) \" data-reactid=\"163\"><a class=\"Fw(600)\" data-reactid=\"164\" href=\"/quote/BKTI?p=BKTI\" title=\"\">BKTI</a></td><td aria-label=\"Company\" class=\"Va(m) Fz(s) Ta(start) Pend(10px) Pstart(6px)\" data-reactid=\"165\"><!-- react-text: 166 -->BK Technologies Inc<!-- /react-text --></td><td aria-label=\"Earnings Call Time\" class=\"Va(m) Fz(s) Ta(end) Pstart(15px) W(20%)\" data-reactid=\"167\"><span data-reactid=\"168\">After Market Close</span></td><td aria-label=\"EPS Estimate\" class=\"Va(m) Fz(s) Ta(end) Pstart(15px) W(10%)\" data-reactid=\"169\"><span data-reactid=\"170\">N/A</span></td><td aria-label=\"Reported EPS\" class=\"Va(m) Fz(s) Ta(end) Pstart(15px) W(10%)\" data-reactid=\"171\"><span data-reactid=\"172\">N/A</span></td><td aria-label=\"Surprise(%)\" class=\"Va(m) Fz(s) Ta(end) Px(15px) W(10%)\" data-reactid=\"173\"><span data-reactid=\"174\">N/A</span></td><td class=\"W(100%)\" data-reactid=\"175\"></td></tr>,\n",
       " <tr class=\"simpTblRow Bgc($extraLightBlue):h BdB Bdbc($finLightGrayAlt) Bdbc($tableBorderBlue):h H(32px) Bgc(white) \" data-reactid=\"176\"><td aria-label=\"Symbol\" class=\"Va(m) Fz(s) Ta(start) Pstart(6px) Pend(10px) W(10%) Miw(85px) Start(0) Pend(10px) simpTblRow:h_Bgc($extraLightBlue) Bgc(white) \" data-reactid=\"177\"><a class=\"Fw(600)\" data-reactid=\"178\" href=\"/quote/BOJA?p=BOJA\" title=\"\">BOJA</a></td><td aria-label=\"Company\" class=\"Va(m) Fz(s) Ta(start) Pend(10px) Pstart(6px)\" data-reactid=\"179\"><!-- react-text: 180 -->Bojangles Inc<!-- /react-text --></td><td aria-label=\"Earnings Call Time\" class=\"Va(m) Fz(s) Ta(end) Pstart(15px) W(20%)\" data-reactid=\"181\"><span data-reactid=\"182\">After Market Close</span></td><td aria-label=\"EPS Estimate\" class=\"Va(m) Fz(s) Ta(end) Pstart(15px) W(10%)\" data-reactid=\"183\"><!-- react-text: 184 -->0.22<!-- /react-text --></td><td aria-label=\"Reported EPS\" class=\"Va(m) Fz(s) Ta(end) Pstart(15px) W(10%)\" data-reactid=\"185\"><span data-reactid=\"186\">N/A</span></td><td aria-label=\"Surprise(%)\" class=\"Va(m) Fz(s) Ta(end) Px(15px) W(10%)\" data-reactid=\"187\"><span data-reactid=\"188\">N/A</span></td><td class=\"W(100%)\" data-reactid=\"189\"></td></tr>,\n",
       " <tr class=\"simpTblRow Bgc($extraLightBlue):h BdB Bdbc($finLightGrayAlt) Bdbc($tableBorderBlue):h H(32px) Bgc($altRowColor) \" data-reactid=\"190\"><td aria-label=\"Symbol\" class=\"Va(m) Fz(s) Ta(start) Pstart(6px) Pend(10px) W(10%) Miw(85px) Start(0) Pend(10px) simpTblRow:h_Bgc($extraLightBlue) Bgc($altRowColor) \" data-reactid=\"191\"><a class=\"Fw(600)\" data-reactid=\"192\" href=\"/quote/MNDO?p=MNDO\" title=\"\">MNDO</a></td><td aria-label=\"Company\" class=\"Va(m) Fz(s) Ta(start) Pend(10px) Pstart(6px)\" data-reactid=\"193\"><!-- react-text: 194 -->Mind CTI Ltd<!-- /react-text --></td><td aria-label=\"Earnings Call Time\" class=\"Va(m) Fz(s) Ta(end) Pstart(15px) W(20%)\" data-reactid=\"195\"><!-- react-text: 196 -->TAS<!-- /react-text --></td><td aria-label=\"EPS Estimate\" class=\"Va(m) Fz(s) Ta(end) Pstart(15px) W(10%)\" data-reactid=\"197\"><span data-reactid=\"198\">N/A</span></td><td aria-label=\"Reported EPS\" class=\"Va(m) Fz(s) Ta(end) Pstart(15px) W(10%)\" data-reactid=\"199\"><span data-reactid=\"200\">N/A</span></td><td aria-label=\"Surprise(%)\" class=\"Va(m) Fz(s) Ta(end) Px(15px) W(10%)\" data-reactid=\"201\"><span data-reactid=\"202\">N/A</span></td><td class=\"W(100%)\" data-reactid=\"203\"></td></tr>,\n",
       " <tr class=\"simpTblRow Bgc($extraLightBlue):h BdB Bdbc($finLightGrayAlt) Bdbc($tableBorderBlue):h H(32px) Bgc(white) \" data-reactid=\"204\"><td aria-label=\"Symbol\" class=\"Va(m) Fz(s) Ta(start) Pstart(6px) Pend(10px) W(10%) Miw(85px) Start(0) Pend(10px) simpTblRow:h_Bgc($extraLightBlue) Bgc(white) \" data-reactid=\"205\"><a class=\"Fw(600)\" data-reactid=\"206\" href=\"/quote/UBQU?p=UBQU\" title=\"\">UBQU</a></td><td aria-label=\"Company\" class=\"Va(m) Fz(s) Ta(start) Pend(10px) Pstart(6px)\" data-reactid=\"207\"><!-- react-text: 208 -->Ubiquitech Software Corp<!-- /react-text --></td><td aria-label=\"Earnings Call Time\" class=\"Va(m) Fz(s) Ta(end) Pstart(15px) W(20%)\" data-reactid=\"209\"><span data-reactid=\"210\">Time Not Supplied</span></td><td aria-label=\"EPS Estimate\" class=\"Va(m) Fz(s) Ta(end) Pstart(15px) W(10%)\" data-reactid=\"211\"><span data-reactid=\"212\">N/A</span></td><td aria-label=\"Reported EPS\" class=\"Va(m) Fz(s) Ta(end) Pstart(15px) W(10%)\" data-reactid=\"213\"><span data-reactid=\"214\">N/A</span></td><td aria-label=\"Surprise(%)\" class=\"Va(m) Fz(s) Ta(end) Px(15px) W(10%)\" data-reactid=\"215\"><span data-reactid=\"216\">N/A</span></td><td class=\"W(100%)\" data-reactid=\"217\"></td></tr>,\n",
       " <tr class=\"simpTblRow Bgc($extraLightBlue):h BdB Bdbc($finLightGrayAlt) Bdbc($tableBorderBlue):h H(32px) Bgc($altRowColor) \" data-reactid=\"218\"><td aria-label=\"Symbol\" class=\"Va(m) Fz(s) Ta(start) Pstart(6px) Pend(10px) W(10%) Miw(85px) Start(0) Pend(10px) simpTblRow:h_Bgc($extraLightBlue) Bgc($altRowColor) \" data-reactid=\"219\"><a class=\"Fw(600)\" data-reactid=\"220\" href=\"/quote/PLCE?p=PLCE\" title=\"\">PLCE</a></td><td aria-label=\"Company\" class=\"Va(m) Fz(s) Ta(start) Pend(10px) Pstart(6px)\" data-reactid=\"221\"><!-- react-text: 222 -->Childrens Place Inc<!-- /react-text --></td><td aria-label=\"Earnings Call Time\" class=\"Va(m) Fz(s) Ta(end) Pstart(15px) W(20%)\" data-reactid=\"223\"><!-- react-text: 224 -->TAS<!-- /react-text --></td><td aria-label=\"EPS Estimate\" class=\"Va(m) Fz(s) Ta(end) Pstart(15px) W(10%)\" data-reactid=\"225\"><!-- react-text: 226 -->2.1<!-- /react-text --></td><td aria-label=\"Reported EPS\" class=\"Va(m) Fz(s) Ta(end) Pstart(15px) W(10%)\" data-reactid=\"227\"><!-- react-text: 228 -->1.1<!-- /react-text --></td><td aria-label=\"Surprise(%)\" class=\"Va(m) Fz(s) Ta(end) Px(15px) W(10%)\" data-reactid=\"229\"><span class=\"Trsdu(0.3s) Fw(600) C($dataRed)\" data-reactid=\"230\">-47.62</span></td><td class=\"W(100%)\" data-reactid=\"231\"></td></tr>,\n",
       " <tr class=\"simpTblRow Bgc($extraLightBlue):h BdB Bdbc($finLightGrayAlt) Bdbc($tableBorderBlue):h H(32px) Bgc(white) \" data-reactid=\"232\"><td aria-label=\"Symbol\" class=\"Va(m) Fz(s) Ta(start) Pstart(6px) Pend(10px) W(10%) Miw(85px) Start(0) Pend(10px) simpTblRow:h_Bgc($extraLightBlue) Bgc(white) \" data-reactid=\"233\"><a class=\"Fw(600)\" data-reactid=\"234\" href=\"/quote/CLAR?p=CLAR\" title=\"\">CLAR</a></td><td aria-label=\"Company\" class=\"Va(m) Fz(s) Ta(start) Pend(10px) Pstart(6px)\" data-reactid=\"235\"><!-- react-text: 236 -->Clarus Corp<!-- /react-text --></td><td aria-label=\"Earnings Call Time\" class=\"Va(m) Fz(s) Ta(end) Pstart(15px) W(20%)\" data-reactid=\"237\"><!-- react-text: 238 -->TAS<!-- /react-text --></td><td aria-label=\"EPS Estimate\" class=\"Va(m) Fz(s) Ta(end) Pstart(15px) W(10%)\" data-reactid=\"239\"><!-- react-text: 240 -->0.19<!-- /react-text --></td><td aria-label=\"Reported EPS\" class=\"Va(m) Fz(s) Ta(end) Pstart(15px) W(10%)\" data-reactid=\"241\"><!-- react-text: 242 -->0.19<!-- /react-text --></td><td aria-label=\"Surprise(%)\" class=\"Va(m) Fz(s) Ta(end) Px(15px) W(10%)\" data-reactid=\"243\"><span data-reactid=\"244\">N/A</span></td><td class=\"W(100%)\" data-reactid=\"245\"></td></tr>,\n",
       " <tr class=\"simpTblRow Bgc($extraLightBlue):h BdB Bdbc($finLightGrayAlt) Bdbc($tableBorderBlue):h H(32px) Bgc($altRowColor) \" data-reactid=\"246\"><td aria-label=\"Symbol\" class=\"Va(m) Fz(s) Ta(start) Pstart(6px) Pend(10px) W(10%) Miw(85px) Start(0) Pend(10px) simpTblRow:h_Bgc($extraLightBlue) Bgc($altRowColor) \" data-reactid=\"247\"><a class=\"Fw(600)\" data-reactid=\"248\" href=\"/quote/LJPC?p=LJPC\" title=\"\">LJPC</a></td><td aria-label=\"Company\" class=\"Va(m) Fz(s) Ta(start) Pend(10px) Pstart(6px)\" data-reactid=\"249\"><!-- react-text: 250 -->La Jolla Pharmaceutical Co<!-- /react-text --></td><td aria-label=\"Earnings Call Time\" class=\"Va(m) Fz(s) Ta(end) Pstart(15px) W(20%)\" data-reactid=\"251\"><!-- react-text: 252 -->TAS<!-- /react-text --></td><td aria-label=\"EPS Estimate\" class=\"Va(m) Fz(s) Ta(end) Pstart(15px) W(10%)\" data-reactid=\"253\"><!-- react-text: 254 -->-1.74<!-- /react-text --></td><td aria-label=\"Reported EPS\" class=\"Va(m) Fz(s) Ta(end) Pstart(15px) W(10%)\" data-reactid=\"255\"><!-- react-text: 256 -->-1.73<!-- /react-text --></td><td aria-label=\"Surprise(%)\" class=\"Va(m) Fz(s) Ta(end) Px(15px) W(10%)\" data-reactid=\"257\"><span class=\"Trsdu(0.3s) Fw(600) C($dataGreen)\" data-reactid=\"258\">+0.57</span></td><td class=\"W(100%)\" data-reactid=\"259\"></td></tr>,\n",
       " <tr class=\"simpTblRow Bgc($extraLightBlue):h BdB Bdbc($finLightGrayAlt) Bdbc($tableBorderBlue):h H(32px) Bgc(white) \" data-reactid=\"260\"><td aria-label=\"Symbol\" class=\"Va(m) Fz(s) Ta(start) Pstart(6px) Pend(10px) W(10%) Miw(85px) Start(0) Pend(10px) simpTblRow:h_Bgc($extraLightBlue) Bgc(white) \" data-reactid=\"261\"><a class=\"Fw(600)\" data-reactid=\"262\" href=\"/quote/LJPC?p=LJPC\" title=\"\">LJPC</a></td><td aria-label=\"Company\" class=\"Va(m) Fz(s) Ta(start) Pend(10px) Pstart(6px)\" data-reactid=\"263\"><!-- react-text: 264 -->La Jolla Pharmaceutical Co<!-- /react-text --></td><td aria-label=\"Earnings Call Time\" class=\"Va(m) Fz(s) Ta(end) Pstart(15px) W(20%)\" data-reactid=\"265\"><span data-reactid=\"266\">After Market Close</span></td><td aria-label=\"EPS Estimate\" class=\"Va(m) Fz(s) Ta(end) Pstart(15px) W(10%)\" data-reactid=\"267\"><!-- react-text: 268 -->-1.74<!-- /react-text --></td><td aria-label=\"Reported EPS\" class=\"Va(m) Fz(s) Ta(end) Pstart(15px) W(10%)\" data-reactid=\"269\"><!-- react-text: 270 -->-1.73<!-- /react-text --></td><td aria-label=\"Surprise(%)\" class=\"Va(m) Fz(s) Ta(end) Px(15px) W(10%)\" data-reactid=\"271\"><span class=\"Trsdu(0.3s) Fw(600) C($dataGreen)\" data-reactid=\"272\">+0.57</span></td><td class=\"W(100%)\" data-reactid=\"273\"></td></tr>,\n",
       " <tr class=\"simpTblRow Bgc($extraLightBlue):h BdB Bdbc($finLightGrayAlt) Bdbc($tableBorderBlue):h H(32px) Bgc($altRowColor) \" data-reactid=\"274\"><td aria-label=\"Symbol\" class=\"Va(m) Fz(s) Ta(start) Pstart(6px) Pend(10px) W(10%) Miw(85px) Start(0) Pend(10px) simpTblRow:h_Bgc($extraLightBlue) Bgc($altRowColor) \" data-reactid=\"275\"><a class=\"Fw(600)\" data-reactid=\"276\" href=\"/quote/CTRP?p=CTRP\" title=\"\">CTRP</a></td><td aria-label=\"Company\" class=\"Va(m) Fz(s) Ta(start) Pend(10px) Pstart(6px)\" data-reactid=\"277\"><!-- react-text: 278 -->Ctrip.Com International Ltd<!-- /react-text --></td><td aria-label=\"Earnings Call Time\" class=\"Va(m) Fz(s) Ta(end) Pstart(15px) W(20%)\" data-reactid=\"279\"><span data-reactid=\"280\">After Market Close</span></td><td aria-label=\"EPS Estimate\" class=\"Va(m) Fz(s) Ta(end) Pstart(15px) W(10%)\" data-reactid=\"281\"><!-- react-text: 282 -->-0.03<!-- /react-text --></td><td aria-label=\"Reported EPS\" class=\"Va(m) Fz(s) Ta(end) Pstart(15px) W(10%)\" data-reactid=\"283\"><!-- react-text: 284 -->0.13<!-- /react-text --></td><td aria-label=\"Surprise(%)\" class=\"Va(m) Fz(s) Ta(end) Px(15px) W(10%)\" data-reactid=\"285\"><span class=\"Trsdu(0.3s) Fw(600) C($dataGreen)\" data-reactid=\"286\">+533.33</span></td><td class=\"W(100%)\" data-reactid=\"287\"></td></tr>,\n",
       " <tr class=\"simpTblRow Bgc($extraLightBlue):h BdB Bdbc($finLightGrayAlt) Bdbc($tableBorderBlue):h H(32px) Bgc(white) \" data-reactid=\"288\"><td aria-label=\"Symbol\" class=\"Va(m) Fz(s) Ta(start) Pstart(6px) Pend(10px) W(10%) Miw(85px) Start(0) Pend(10px) simpTblRow:h_Bgc($extraLightBlue) Bgc(white) \" data-reactid=\"289\"><a class=\"Fw(600)\" data-reactid=\"290\" href=\"/quote/PMD?p=PMD\" title=\"\">PMD</a></td><td aria-label=\"Company\" class=\"Va(m) Fz(s) Ta(start) Pend(10px) Pstart(6px)\" data-reactid=\"291\"><!-- react-text: 292 -->Psychemedics Corp<!-- /react-text --></td><td aria-label=\"Earnings Call Time\" class=\"Va(m) Fz(s) Ta(end) Pstart(15px) W(20%)\" data-reactid=\"293\"><span data-reactid=\"294\">After Market Close</span></td><td aria-label=\"EPS Estimate\" class=\"Va(m) Fz(s) Ta(end) Pstart(15px) W(10%)\" data-reactid=\"295\"><span data-reactid=\"296\">N/A</span></td><td aria-label=\"Reported EPS\" class=\"Va(m) Fz(s) Ta(end) Pstart(15px) W(10%)\" data-reactid=\"297\"><span data-reactid=\"298\">N/A</span></td><td aria-label=\"Surprise(%)\" class=\"Va(m) Fz(s) Ta(end) Px(15px) W(10%)\" data-reactid=\"299\"><span data-reactid=\"300\">N/A</span></td><td class=\"W(100%)\" data-reactid=\"301\"></td></tr>,\n",
       " <tr class=\"simpTblRow Bgc($extraLightBlue):h BdB Bdbc($finLightGrayAlt) Bdbc($tableBorderBlue):h H(32px) Bgc($altRowColor) \" data-reactid=\"302\"><td aria-label=\"Symbol\" class=\"Va(m) Fz(s) Ta(start) Pstart(6px) Pend(10px) W(10%) Miw(85px) Start(0) Pend(10px) simpTblRow:h_Bgc($extraLightBlue) Bgc($altRowColor) \" data-reactid=\"303\"><a class=\"Fw(600)\" data-reactid=\"304\" href=\"/quote/CPTA?p=CPTA\" title=\"\">CPTA</a></td><td aria-label=\"Company\" class=\"Va(m) Fz(s) Ta(start) Pend(10px) Pstart(6px)\" data-reactid=\"305\"><!-- react-text: 306 -->Capitala Finance Corp<!-- /react-text --></td><td aria-label=\"Earnings Call Time\" class=\"Va(m) Fz(s) Ta(end) Pstart(15px) W(20%)\" data-reactid=\"307\"><!-- react-text: 308 -->TAS<!-- /react-text --></td><td aria-label=\"EPS Estimate\" class=\"Va(m) Fz(s) Ta(end) Pstart(15px) W(10%)\" data-reactid=\"309\"><!-- react-text: 310 -->0.24<!-- /react-text --></td><td aria-label=\"Reported EPS\" class=\"Va(m) Fz(s) Ta(end) Pstart(15px) W(10%)\" data-reactid=\"311\"><!-- react-text: 312 -->0.22<!-- /react-text --></td><td aria-label=\"Surprise(%)\" class=\"Va(m) Fz(s) Ta(end) Px(15px) W(10%)\" data-reactid=\"313\"><span class=\"Trsdu(0.3s) Fw(600) C($dataRed)\" data-reactid=\"314\">-8.33</span></td><td class=\"W(100%)\" data-reactid=\"315\"></td></tr>,\n",
       " <tr class=\"simpTblRow Bgc($extraLightBlue):h BdB Bdbc($finLightGrayAlt) Bdbc($tableBorderBlue):h H(32px) Bgc(white) \" data-reactid=\"316\"><td aria-label=\"Symbol\" class=\"Va(m) Fz(s) Ta(start) Pstart(6px) Pend(10px) W(10%) Miw(85px) Start(0) Pend(10px) simpTblRow:h_Bgc($extraLightBlue) Bgc(white) \" data-reactid=\"317\"><a class=\"Fw(600)\" data-reactid=\"318\" href=\"/quote/SPKE?p=SPKE\" title=\"\">SPKE</a></td><td aria-label=\"Company\" class=\"Va(m) Fz(s) Ta(start) Pend(10px) Pstart(6px)\" data-reactid=\"319\"><!-- react-text: 320 -->Spark Energy Inc<!-- /react-text --></td><td aria-label=\"Earnings Call Time\" class=\"Va(m) Fz(s) Ta(end) Pstart(15px) W(20%)\" data-reactid=\"321\"><!-- react-text: 322 -->TAS<!-- /react-text --></td><td aria-label=\"EPS Estimate\" class=\"Va(m) Fz(s) Ta(end) Pstart(15px) W(10%)\" data-reactid=\"323\"><!-- react-text: 324 -->0.27<!-- /react-text --></td><td aria-label=\"Reported EPS\" class=\"Va(m) Fz(s) Ta(end) Pstart(15px) W(10%)\" data-reactid=\"325\"><span data-reactid=\"326\">N/A</span></td><td aria-label=\"Surprise(%)\" class=\"Va(m) Fz(s) Ta(end) Px(15px) W(10%)\" data-reactid=\"327\"><span data-reactid=\"328\">N/A</span></td><td class=\"W(100%)\" data-reactid=\"329\"></td></tr>,\n",
       " <tr class=\"simpTblRow Bgc($extraLightBlue):h BdB Bdbc($finLightGrayAlt) Bdbc($tableBorderBlue):h H(32px) Bgc($altRowColor) \" data-reactid=\"330\"><td aria-label=\"Symbol\" class=\"Va(m) Fz(s) Ta(start) Pstart(6px) Pend(10px) W(10%) Miw(85px) Start(0) Pend(10px) simpTblRow:h_Bgc($extraLightBlue) Bgc($altRowColor) \" data-reactid=\"331\"><a class=\"Fw(600)\" data-reactid=\"332\" href=\"/quote/GAIA?p=GAIA\" title=\"\">GAIA</a></td><td aria-label=\"Company\" class=\"Va(m) Fz(s) Ta(start) Pend(10px) Pstart(6px)\" data-reactid=\"333\"><!-- react-text: 334 -->Gaia Inc<!-- /react-text --></td><td aria-label=\"Earnings Call Time\" class=\"Va(m) Fz(s) Ta(end) Pstart(15px) W(20%)\" data-reactid=\"335\"><span data-reactid=\"336\">After Market Close</span></td><td aria-label=\"EPS Estimate\" class=\"Va(m) Fz(s) Ta(end) Pstart(15px) W(10%)\" data-reactid=\"337\"><!-- react-text: 338 -->-0.59<!-- /react-text --></td><td aria-label=\"Reported EPS\" class=\"Va(m) Fz(s) Ta(end) Pstart(15px) W(10%)\" data-reactid=\"339\"><!-- react-text: 340 -->-0.62<!-- /react-text --></td><td aria-label=\"Surprise(%)\" class=\"Va(m) Fz(s) Ta(end) Px(15px) W(10%)\" data-reactid=\"341\"><span class=\"Trsdu(0.3s) Fw(600) C($dataRed)\" data-reactid=\"342\">-5.08</span></td><td class=\"W(100%)\" data-reactid=\"343\"></td></tr>,\n",
       " <tr class=\"simpTblRow Bgc($extraLightBlue):h BdB Bdbc($finLightGrayAlt) Bdbc($tableBorderBlue):h H(32px) Bgc(white) \" data-reactid=\"344\"><td aria-label=\"Symbol\" class=\"Va(m) Fz(s) Ta(start) Pstart(6px) Pend(10px) W(10%) Miw(85px) Start(0) Pend(10px) simpTblRow:h_Bgc($extraLightBlue) Bgc(white) \" data-reactid=\"345\"><a class=\"Fw(600)\" data-reactid=\"346\" href=\"/quote/GAIA?p=GAIA\" title=\"\">GAIA</a></td><td aria-label=\"Company\" class=\"Va(m) Fz(s) Ta(start) Pend(10px) Pstart(6px)\" data-reactid=\"347\"><!-- react-text: 348 -->Gaia Inc<!-- /react-text --></td><td aria-label=\"Earnings Call Time\" class=\"Va(m) Fz(s) Ta(end) Pstart(15px) W(20%)\" data-reactid=\"349\"><!-- react-text: 350 -->TAS<!-- /react-text --></td><td aria-label=\"EPS Estimate\" class=\"Va(m) Fz(s) Ta(end) Pstart(15px) W(10%)\" data-reactid=\"351\"><!-- react-text: 352 -->-0.59<!-- /react-text --></td><td aria-label=\"Reported EPS\" class=\"Va(m) Fz(s) Ta(end) Pstart(15px) W(10%)\" data-reactid=\"353\"><!-- react-text: 354 -->-0.62<!-- /react-text --></td><td aria-label=\"Surprise(%)\" class=\"Va(m) Fz(s) Ta(end) Px(15px) W(10%)\" data-reactid=\"355\"><span class=\"Trsdu(0.3s) Fw(600) C($dataRed)\" data-reactid=\"356\">-5.08</span></td><td class=\"W(100%)\" data-reactid=\"357\"></td></tr>,\n",
       " <tr class=\"simpTblRow Bgc($extraLightBlue):h BdB Bdbc($finLightGrayAlt) Bdbc($tableBorderBlue):h H(32px) Bgc($altRowColor) \" data-reactid=\"358\"><td aria-label=\"Symbol\" class=\"Va(m) Fz(s) Ta(start) Pstart(6px) Pend(10px) W(10%) Miw(85px) Start(0) Pend(10px) simpTblRow:h_Bgc($extraLightBlue) Bgc($altRowColor) \" data-reactid=\"359\"><a class=\"Fw(600)\" data-reactid=\"360\" href=\"/quote/LEAF?p=LEAF\" title=\"\">LEAF</a></td><td aria-label=\"Company\" class=\"Va(m) Fz(s) Ta(start) Pend(10px) Pstart(6px)\" data-reactid=\"361\"><!-- react-text: 362 -->Leaf Group Ltd<!-- /react-text --></td><td aria-label=\"Earnings Call Time\" class=\"Va(m) Fz(s) Ta(end) Pstart(15px) W(20%)\" data-reactid=\"363\"><!-- react-text: 364 -->TAS<!-- /react-text --></td><td aria-label=\"EPS Estimate\" class=\"Va(m) Fz(s) Ta(end) Pstart(15px) W(10%)\" data-reactid=\"365\"><!-- react-text: 366 -->-0.16<!-- /react-text --></td><td aria-label=\"Reported EPS\" class=\"Va(m) Fz(s) Ta(end) Pstart(15px) W(10%)\" data-reactid=\"367\"><!-- react-text: 368 -->-0.19<!-- /react-text --></td><td aria-label=\"Surprise(%)\" class=\"Va(m) Fz(s) Ta(end) Px(15px) W(10%)\" data-reactid=\"369\"><span class=\"Trsdu(0.3s) Fw(600) C($dataRed)\" data-reactid=\"370\">-18.75</span></td><td class=\"W(100%)\" data-reactid=\"371\"></td></tr>,\n",
       " <tr class=\"simpTblRow Bgc($extraLightBlue):h BdB Bdbc($finLightGrayAlt) Bdbc($tableBorderBlue):h H(32px) Bgc(white) \" data-reactid=\"372\"><td aria-label=\"Symbol\" class=\"Va(m) Fz(s) Ta(start) Pstart(6px) Pend(10px) W(10%) Miw(85px) Start(0) Pend(10px) simpTblRow:h_Bgc($extraLightBlue) Bgc(white) \" data-reactid=\"373\"><a class=\"Fw(600)\" data-reactid=\"374\" href=\"/quote/GMGI?p=GMGI\" title=\"\">GMGI</a></td><td aria-label=\"Company\" class=\"Va(m) Fz(s) Ta(start) Pend(10px) Pstart(6px)\" data-reactid=\"375\"><!-- react-text: 376 -->Golden Matrix Group Inc<!-- /react-text --></td><td aria-label=\"Earnings Call Time\" class=\"Va(m) Fz(s) Ta(end) Pstart(15px) W(20%)\" data-reactid=\"377\"><span data-reactid=\"378\">Time Not Supplied</span></td><td aria-label=\"EPS Estimate\" class=\"Va(m) Fz(s) Ta(end) Pstart(15px) W(10%)\" data-reactid=\"379\"><span data-reactid=\"380\">N/A</span></td><td aria-label=\"Reported EPS\" class=\"Va(m) Fz(s) Ta(end) Pstart(15px) W(10%)\" data-reactid=\"381\"><span data-reactid=\"382\">N/A</span></td><td aria-label=\"Surprise(%)\" class=\"Va(m) Fz(s) Ta(end) Px(15px) W(10%)\" data-reactid=\"383\"><span data-reactid=\"384\">N/A</span></td><td class=\"W(100%)\" data-reactid=\"385\"></td></tr>,\n",
       " <tr class=\"simpTblRow Bgc($extraLightBlue):h BdB Bdbc($finLightGrayAlt) Bdbc($tableBorderBlue):h H(32px) Bgc($altRowColor) \" data-reactid=\"386\"><td aria-label=\"Symbol\" class=\"Va(m) Fz(s) Ta(start) Pstart(6px) Pend(10px) W(10%) Miw(85px) Start(0) Pend(10px) simpTblRow:h_Bgc($extraLightBlue) Bgc($altRowColor) \" data-reactid=\"387\"><a class=\"Fw(600)\" data-reactid=\"388\" href=\"/quote/HUYA?p=HUYA\" title=\"\">HUYA</a></td><td aria-label=\"Company\" class=\"Va(m) Fz(s) Ta(start) Pend(10px) Pstart(6px)\" data-reactid=\"389\"><!-- react-text: 390 -->HUYA Inc<!-- /react-text --></td><td aria-label=\"Earnings Call Time\" class=\"Va(m) Fz(s) Ta(end) Pstart(15px) W(20%)\" data-reactid=\"391\"><span data-reactid=\"392\">After Market Close</span></td><td aria-label=\"EPS Estimate\" class=\"Va(m) Fz(s) Ta(end) Pstart(15px) W(10%)\" data-reactid=\"393\"><!-- react-text: 394 -->0.09<!-- /react-text --></td><td aria-label=\"Reported EPS\" class=\"Va(m) Fz(s) Ta(end) Pstart(15px) W(10%)\" data-reactid=\"395\"><!-- react-text: 396 -->0.11<!-- /react-text --></td><td aria-label=\"Surprise(%)\" class=\"Va(m) Fz(s) Ta(end) Px(15px) W(10%)\" data-reactid=\"397\"><span class=\"Trsdu(0.3s) Fw(600) C($dataGreen)\" data-reactid=\"398\">+22.22</span></td><td class=\"W(100%)\" data-reactid=\"399\"></td></tr>,\n",
       " <tr class=\"simpTblRow Bgc($extraLightBlue):h BdB Bdbc($finLightGrayAlt) Bdbc($tableBorderBlue):h H(32px) Bgc(white) \" data-reactid=\"400\"><td aria-label=\"Symbol\" class=\"Va(m) Fz(s) Ta(start) Pstart(6px) Pend(10px) W(10%) Miw(85px) Start(0) Pend(10px) simpTblRow:h_Bgc($extraLightBlue) Bgc(white) \" data-reactid=\"401\"><a class=\"Fw(600)\" data-reactid=\"402\" href=\"/quote/HRTG?p=HRTG\" title=\"\">HRTG</a></td><td aria-label=\"Company\" class=\"Va(m) Fz(s) Ta(start) Pend(10px) Pstart(6px)\" data-reactid=\"403\"><!-- react-text: 404 -->Heritage Insurance Holdings Inc<!-- /react-text --></td><td aria-label=\"Earnings Call Time\" class=\"Va(m) Fz(s) Ta(end) Pstart(15px) W(20%)\" data-reactid=\"405\"><!-- react-text: 406 -->TAS<!-- /react-text --></td><td aria-label=\"EPS Estimate\" class=\"Va(m) Fz(s) Ta(end) Pstart(15px) W(10%)\" data-reactid=\"407\"><!-- react-text: 408 -->0.15<!-- /react-text --></td><td aria-label=\"Reported EPS\" class=\"Va(m) Fz(s) Ta(end) Pstart(15px) W(10%)\" data-reactid=\"409\"><!-- react-text: 410 -->0.15<!-- /react-text --></td><td aria-label=\"Surprise(%)\" class=\"Va(m) Fz(s) Ta(end) Px(15px) W(10%)\" data-reactid=\"411\"><span data-reactid=\"412\">N/A</span></td><td class=\"W(100%)\" data-reactid=\"413\"></td></tr>,\n",
       " <tr class=\"simpTblRow Bgc($extraLightBlue):h BdB Bdbc($finLightGrayAlt) Bdbc($tableBorderBlue):h H(32px) Bgc($altRowColor) \" data-reactid=\"414\"><td aria-label=\"Symbol\" class=\"Va(m) Fz(s) Ta(start) Pstart(6px) Pend(10px) W(10%) Miw(85px) Start(0) Pend(10px) simpTblRow:h_Bgc($extraLightBlue) Bgc($altRowColor) \" data-reactid=\"415\"><a class=\"Fw(600)\" data-reactid=\"416\" href=\"/quote/LUNA?p=LUNA\" title=\"\">LUNA</a></td><td aria-label=\"Company\" class=\"Va(m) Fz(s) Ta(start) Pend(10px) Pstart(6px)\" data-reactid=\"417\"><!-- react-text: 418 -->Luna Innovations Inc<!-- /react-text --></td><td aria-label=\"Earnings Call Time\" class=\"Va(m) Fz(s) Ta(end) Pstart(15px) W(20%)\" data-reactid=\"419\"><!-- react-text: 420 -->TAS<!-- /react-text --></td><td aria-label=\"EPS Estimate\" class=\"Va(m) Fz(s) Ta(end) Pstart(15px) W(10%)\" data-reactid=\"421\"><!-- react-text: 422 -->0.01<!-- /react-text --></td><td aria-label=\"Reported EPS\" class=\"Va(m) Fz(s) Ta(end) Pstart(15px) W(10%)\" data-reactid=\"423\"><span data-reactid=\"424\">N/A</span></td><td aria-label=\"Surprise(%)\" class=\"Va(m) Fz(s) Ta(end) Px(15px) W(10%)\" data-reactid=\"425\"><span class=\"Trsdu(0.3s) Fw(600) C($dataRed)\" data-reactid=\"426\">-100</span></td><td class=\"W(100%)\" data-reactid=\"427\"></td></tr>,\n",
       " <tr class=\"simpTblRow Bgc($extraLightBlue):h BdB Bdbc($finLightGrayAlt) Bdbc($tableBorderBlue):h H(32px) Bgc(white) \" data-reactid=\"428\"><td aria-label=\"Symbol\" class=\"Va(m) Fz(s) Ta(start) Pstart(6px) Pend(10px) W(10%) Miw(85px) Start(0) Pend(10px) simpTblRow:h_Bgc($extraLightBlue) Bgc(white) \" data-reactid=\"429\"><a class=\"Fw(600)\" data-reactid=\"430\" href=\"/quote/MYOK?p=MYOK\" title=\"\">MYOK</a></td><td aria-label=\"Company\" class=\"Va(m) Fz(s) Ta(start) Pend(10px) Pstart(6px)\" data-reactid=\"431\"><!-- react-text: 432 -->MyoKardia Inc<!-- /react-text --></td><td aria-label=\"Earnings Call Time\" class=\"Va(m) Fz(s) Ta(end) Pstart(15px) W(20%)\" data-reactid=\"433\"><!-- react-text: 434 -->TAS<!-- /react-text --></td><td aria-label=\"EPS Estimate\" class=\"Va(m) Fz(s) Ta(end) Pstart(15px) W(10%)\" data-reactid=\"435\"><!-- react-text: 436 -->-0.52<!-- /react-text --></td><td aria-label=\"Reported EPS\" class=\"Va(m) Fz(s) Ta(end) Pstart(15px) W(10%)\" data-reactid=\"437\"><!-- react-text: 438 -->-0.38<!-- /react-text --></td><td aria-label=\"Surprise(%)\" class=\"Va(m) Fz(s) Ta(end) Px(15px) W(10%)\" data-reactid=\"439\"><span class=\"Trsdu(0.3s) Fw(600) C($dataGreen)\" data-reactid=\"440\">+26.92</span></td><td class=\"W(100%)\" data-reactid=\"441\"></td></tr>,\n",
       " <tr class=\"simpTblRow Bgc($extraLightBlue):h BdB Bdbc($finLightGrayAlt) Bdbc($tableBorderBlue):h H(32px) Bgc($altRowColor) \" data-reactid=\"442\"><td aria-label=\"Symbol\" class=\"Va(m) Fz(s) Ta(start) Pstart(6px) Pend(10px) W(10%) Miw(85px) Start(0) Pend(10px) simpTblRow:h_Bgc($extraLightBlue) Bgc($altRowColor) \" data-reactid=\"443\"><a class=\"Fw(600)\" data-reactid=\"444\" href=\"/quote/OTEL?p=OTEL\" title=\"\">OTEL</a></td><td aria-label=\"Company\" class=\"Va(m) Fz(s) Ta(start) Pend(10px) Pstart(6px)\" data-reactid=\"445\"><!-- react-text: 446 -->Otelco Inc<!-- /react-text --></td><td aria-label=\"Earnings Call Time\" class=\"Va(m) Fz(s) Ta(end) Pstart(15px) W(20%)\" data-reactid=\"447\"><!-- react-text: 448 -->TAS<!-- /react-text --></td><td aria-label=\"EPS Estimate\" class=\"Va(m) Fz(s) Ta(end) Pstart(15px) W(10%)\" data-reactid=\"449\"><span data-reactid=\"450\">N/A</span></td><td aria-label=\"Reported EPS\" class=\"Va(m) Fz(s) Ta(end) Pstart(15px) W(10%)\" data-reactid=\"451\"><span data-reactid=\"452\">N/A</span></td><td aria-label=\"Surprise(%)\" class=\"Va(m) Fz(s) Ta(end) Px(15px) W(10%)\" data-reactid=\"453\"><span data-reactid=\"454\">N/A</span></td><td class=\"W(100%)\" data-reactid=\"455\"></td></tr>,\n",
       " <tr class=\"simpTblRow Bgc($extraLightBlue):h BdB Bdbc($finLightGrayAlt) Bdbc($tableBorderBlue):h H(32px) Bgc(white) \" data-reactid=\"456\"><td aria-label=\"Symbol\" class=\"Va(m) Fz(s) Ta(start) Pstart(6px) Pend(10px) W(10%) Miw(85px) Start(0) Pend(10px) simpTblRow:h_Bgc($extraLightBlue) Bgc(white) \" data-reactid=\"457\"><a class=\"Fw(600)\" data-reactid=\"458\" href=\"/quote/OTIC?p=OTIC\" title=\"\">OTIC</a></td><td aria-label=\"Company\" class=\"Va(m) Fz(s) Ta(start) Pend(10px) Pstart(6px)\" data-reactid=\"459\"><!-- react-text: 460 -->Otonomy Inc<!-- /react-text --></td><td aria-label=\"Earnings Call Time\" class=\"Va(m) Fz(s) Ta(end) Pstart(15px) W(20%)\" data-reactid=\"461\"><!-- react-text: 462 -->TAS<!-- /react-text --></td><td aria-label=\"EPS Estimate\" class=\"Va(m) Fz(s) Ta(end) Pstart(15px) W(10%)\" data-reactid=\"463\"><!-- react-text: 464 -->-0.48<!-- /react-text --></td><td aria-label=\"Reported EPS\" class=\"Va(m) Fz(s) Ta(end) Pstart(15px) W(10%)\" data-reactid=\"465\"><!-- react-text: 466 -->-0.42<!-- /react-text --></td><td aria-label=\"Surprise(%)\" class=\"Va(m) Fz(s) Ta(end) Px(15px) W(10%)\" data-reactid=\"467\"><span class=\"Trsdu(0.3s) Fw(600) C($dataGreen)\" data-reactid=\"468\">+12.5</span></td><td class=\"W(100%)\" data-reactid=\"469\"></td></tr>,\n",
       " <tr class=\"simpTblRow Bgc($extraLightBlue):h BdB Bdbc($finLightGrayAlt) Bdbc($tableBorderBlue):h H(32px) Bgc($altRowColor) \" data-reactid=\"470\"><td aria-label=\"Symbol\" class=\"Va(m) Fz(s) Ta(start) Pstart(6px) Pend(10px) W(10%) Miw(85px) Start(0) Pend(10px) simpTblRow:h_Bgc($extraLightBlue) Bgc($altRowColor) \" data-reactid=\"471\"><a class=\"Fw(600)\" data-reactid=\"472\" href=\"/quote/CRM?p=CRM\" title=\"\">CRM</a></td><td aria-label=\"Company\" class=\"Va(m) Fz(s) Ta(start) Pend(10px) Pstart(6px)\" data-reactid=\"473\"><!-- react-text: 474 -->Salesforce.com Inc<!-- /react-text --></td><td aria-label=\"Earnings Call Time\" class=\"Va(m) Fz(s) Ta(end) Pstart(15px) W(20%)\" data-reactid=\"475\"><!-- react-text: 476 -->TAS<!-- /react-text --></td><td aria-label=\"EPS Estimate\" class=\"Va(m) Fz(s) Ta(end) Pstart(15px) W(10%)\" data-reactid=\"477\"><!-- react-text: 478 -->0.55<!-- /react-text --></td><td aria-label=\"Reported EPS\" class=\"Va(m) Fz(s) Ta(end) Pstart(15px) W(10%)\" data-reactid=\"479\"><!-- react-text: 480 -->0.7<!-- /react-text --></td><td aria-label=\"Surprise(%)\" class=\"Va(m) Fz(s) Ta(end) Px(15px) W(10%)\" data-reactid=\"481\"><span class=\"Trsdu(0.3s) Fw(600) C($dataGreen)\" data-reactid=\"482\">+27.27</span></td><td class=\"W(100%)\" data-reactid=\"483\"></td></tr>,\n",
       " <tr class=\"simpTblRow Bgc($extraLightBlue):h BdB Bdbc($finLightGrayAlt) Bdbc($tableBorderBlue):h H(32px) Bgc(white) \" data-reactid=\"484\"><td aria-label=\"Symbol\" class=\"Va(m) Fz(s) Ta(start) Pstart(6px) Pend(10px) W(10%) Miw(85px) Start(0) Pend(10px) simpTblRow:h_Bgc($extraLightBlue) Bgc(white) \" data-reactid=\"485\"><a class=\"Fw(600)\" data-reactid=\"486\" href=\"/quote/YY?p=YY\" title=\"\">YY</a></td><td aria-label=\"Company\" class=\"Va(m) Fz(s) Ta(start) Pend(10px) Pstart(6px)\" data-reactid=\"487\"><!-- react-text: 488 -->YY Inc<!-- /react-text --></td><td aria-label=\"Earnings Call Time\" class=\"Va(m) Fz(s) Ta(end) Pstart(15px) W(20%)\" data-reactid=\"489\"><!-- react-text: 490 -->TAS<!-- /react-text --></td><td aria-label=\"EPS Estimate\" class=\"Va(m) Fz(s) Ta(end) Pstart(15px) W(10%)\" data-reactid=\"491\"><!-- react-text: 492 -->1.86<!-- /react-text --></td><td aria-label=\"Reported EPS\" class=\"Va(m) Fz(s) Ta(end) Pstart(15px) W(10%)\" data-reactid=\"493\"><!-- react-text: 494 -->1.91<!-- /react-text --></td><td aria-label=\"Surprise(%)\" class=\"Va(m) Fz(s) Ta(end) Px(15px) W(10%)\" data-reactid=\"495\"><span class=\"Trsdu(0.3s) Fw(600) C($dataGreen)\" data-reactid=\"496\">+2.69</span></td><td class=\"W(100%)\" data-reactid=\"497\"></td></tr>,\n",
       " <tr class=\"simpTblRow Bgc($extraLightBlue):h BdB Bdbc($finLightGrayAlt) Bdbc($tableBorderBlue):h H(32px) Bgc($altRowColor) \" data-reactid=\"498\"><td aria-label=\"Symbol\" class=\"Va(m) Fz(s) Ta(start) Pstart(6px) Pend(10px) W(10%) Miw(85px) Start(0) Pend(10px) simpTblRow:h_Bgc($extraLightBlue) Bgc($altRowColor) \" data-reactid=\"499\"><a class=\"Fw(600)\" data-reactid=\"500\" href=\"/quote/IPAR?p=IPAR\" title=\"\">IPAR</a></td><td aria-label=\"Company\" class=\"Va(m) Fz(s) Ta(start) Pend(10px) Pstart(6px)\" data-reactid=\"501\"><!-- react-text: 502 -->Inter Parfums Inc<!-- /react-text --></td><td aria-label=\"Earnings Call Time\" class=\"Va(m) Fz(s) Ta(end) Pstart(15px) W(20%)\" data-reactid=\"503\"><!-- react-text: 504 -->TAS<!-- /react-text --></td><td aria-label=\"EPS Estimate\" class=\"Va(m) Fz(s) Ta(end) Pstart(15px) W(10%)\" data-reactid=\"505\"><!-- react-text: 506 -->0.2<!-- /react-text --></td><td aria-label=\"Reported EPS\" class=\"Va(m) Fz(s) Ta(end) Pstart(15px) W(10%)\" data-reactid=\"507\"><!-- react-text: 508 -->0.26<!-- /react-text --></td><td aria-label=\"Surprise(%)\" class=\"Va(m) Fz(s) Ta(end) Px(15px) W(10%)\" data-reactid=\"509\"><span class=\"Trsdu(0.3s) Fw(600) C($dataGreen)\" data-reactid=\"510\">+30</span></td><td class=\"W(100%)\" data-reactid=\"511\"></td></tr>]"
      ]
     },
     "execution_count": 101,
     "metadata": {},
     "output_type": "execute_result"
    }
   ],
   "source": [
    "earnings_info = soup.find_all(class_ = 'simpTblRow')\n",
    "earnings_info"
   ]
  },
  {
   "cell_type": "code",
   "execution_count": 102,
   "metadata": {},
   "outputs": [
    {
     "name": "stdout",
     "output_type": "stream",
     "text": [
      "VNET\n",
      "NAO\n",
      "DAVE\n",
      "POPE\n",
      "ADMS\n",
      "AFH\n",
      "ADUS\n",
      "SESN\n",
      "BCRX\n",
      "BKTI\n",
      "BOJA\n",
      "MNDO\n",
      "UBQU\n",
      "PLCE\n",
      "CLAR\n",
      "LJPC\n",
      "LJPC\n",
      "CTRP\n",
      "PMD\n",
      "CPTA\n",
      "SPKE\n",
      "GAIA\n",
      "GAIA\n",
      "LEAF\n",
      "GMGI\n",
      "HUYA\n",
      "HRTG\n",
      "LUNA\n",
      "MYOK\n",
      "OTEL\n",
      "OTIC\n",
      "CRM\n",
      "YY\n",
      "IPAR\n"
     ]
    }
   ],
   "source": [
    "for item in earnings_info:\n",
    "    print (item.find('a').get_text())"
   ]
  },
  {
   "cell_type": "code",
   "execution_count": 107,
   "metadata": {},
   "outputs": [
    {
     "name": "stdout",
     "output_type": "stream",
     "text": [
      "21Vianet Group Inc\n",
      "Nordic American Offshore Ltd\n",
      "Famous Dave's of America Inc\n",
      "Pope Resources A Delaware LP\n",
      "Adamas Pharmaceuticals Inc\n",
      "Atlas Financial Holdings Inc\n",
      "Addus Homecare Corp\n",
      "Sesen Bio Inc\n",
      "BioCryst Pharmaceuticals Inc\n",
      "BK Technologies Inc\n",
      "Bojangles Inc\n",
      "Mind CTI Ltd\n",
      "Ubiquitech Software Corp\n",
      "Childrens Place Inc\n",
      "Clarus Corp\n",
      "La Jolla Pharmaceutical Co\n",
      "La Jolla Pharmaceutical Co\n",
      "Ctrip.Com International Ltd\n",
      "Psychemedics Corp\n",
      "Capitala Finance Corp\n",
      "Spark Energy Inc\n",
      "Gaia Inc\n",
      "Gaia Inc\n",
      "Leaf Group Ltd\n",
      "Golden Matrix Group Inc\n",
      "HUYA Inc\n",
      "Heritage Insurance Holdings Inc\n",
      "Luna Innovations Inc\n",
      "MyoKardia Inc\n",
      "Otelco Inc\n",
      "Otonomy Inc\n",
      "Salesforce.com Inc\n",
      "YY Inc\n",
      "Inter Parfums Inc\n"
     ]
    }
   ],
   "source": [
    "for item in earnings_info:\n",
    "    print (item.find(attrs={'aria-label': 'Company'}).get_text())\n",
    "    \n",
    "#     <td class=\"Va(m) Fz(s) Ta(start) Pend(10px) Pstart(6px)\" aria-label=\"Company\" data-reactid=\"66\"><!-- react-text: 67 -->Nordic American Offshore Ltd<!-- /react-text --></td>\n",
    "    \n",
    "#    <td class=\"Va(m) Fz(s) Ta(start) Pend(10px)\" aria-label=\"Company\"><!-- react-text: 10459 -->21Vianet Group Inc<!-- /react-text --></td>\n"
   ]
  },
  {
   "cell_type": "code",
   "execution_count": 104,
   "metadata": {},
   "outputs": [
    {
     "name": "stdout",
     "output_type": "stream",
     "text": [
      "0.1\n",
      "-0.8\n",
      "0.06\n",
      "N/A\n",
      "-1.34\n",
      "0.47\n",
      "0.51\n",
      "-0.08\n",
      "-0.25\n",
      "N/A\n",
      "0.22\n",
      "N/A\n",
      "N/A\n",
      "2.1\n",
      "0.19\n",
      "-1.74\n",
      "-1.74\n",
      "-0.03\n",
      "N/A\n",
      "0.24\n",
      "0.27\n",
      "-0.59\n",
      "-0.59\n",
      "-0.16\n",
      "N/A\n",
      "0.09\n",
      "0.15\n",
      "0.01\n",
      "-0.52\n",
      "N/A\n",
      "-0.48\n",
      "0.55\n",
      "1.86\n",
      "0.2\n"
     ]
    }
   ],
   "source": [
    "# EPS Estimate\n",
    "for item in earnings_info:\n",
    "    print(item.find(attrs={'aria-label': 'EPS Estimate'}).get_text())\n",
    "\n",
    "#<td class=\"Va(m) Fz(s) Ta(end) Pstart(15px) W(10%)\" aria-label=\"EPS Estimate\"><!-- react-text: 10463 -->0.1<!-- /react-text --></td>"
   ]
  },
  {
   "cell_type": "code",
   "execution_count": 105,
   "metadata": {},
   "outputs": [
    {
     "name": "stdout",
     "output_type": "stream",
     "text": [
      "-0.14\n",
      "-1.41\n",
      "0.13\n",
      "N/A\n",
      "-1.06\n",
      "-4.36\n",
      "0.55\n",
      "-0.07\n",
      "-0.25\n",
      "N/A\n",
      "N/A\n",
      "N/A\n",
      "N/A\n",
      "1.1\n",
      "0.19\n",
      "-1.73\n",
      "-1.73\n",
      "0.13\n",
      "N/A\n",
      "0.22\n",
      "N/A\n",
      "-0.62\n",
      "-0.62\n",
      "-0.19\n",
      "N/A\n",
      "0.11\n",
      "0.15\n",
      "N/A\n",
      "-0.38\n",
      "N/A\n",
      "-0.42\n",
      "0.7\n",
      "1.91\n",
      "0.26\n"
     ]
    }
   ],
   "source": [
    "# Reported EPS \n",
    "for item in earnings_info:\n",
    "    print(item.find(attrs={'aria-label': 'Reported EPS'}).get_text())\n",
    "\n",
    "#    attrs={'data-example': 'yes'}\n",
    "    \n",
    "# <td class=\"Va(m) Fz(s) Ta(end) Pstart(15px) W(10%)\" aria-label=\"Reported EPS\"><!-- react-text: 10465 -->-0.14<!-- /react-text --></td>"
   ]
  },
  {
   "cell_type": "code",
   "execution_count": 55,
   "metadata": {},
   "outputs": [
    {
     "name": "stdout",
     "output_type": "stream",
     "text": [
      "-240\n",
      "-76.25\n",
      "+116.67\n",
      "N/A\n",
      "+20.9\n",
      "-1027.66\n",
      "+7.84\n",
      "+12.5\n",
      "N/A\n",
      "N/A\n",
      "N/A\n",
      "N/A\n",
      "N/A\n",
      "N/A\n",
      "-47.62\n",
      "+0.57\n",
      "+0.57\n",
      "+533.33\n",
      "N/A\n",
      "-8.33\n",
      "N/A\n",
      "-5.08\n",
      "-5.08\n",
      "-18.75\n",
      "N/A\n",
      "N/A\n",
      "+22.22\n",
      "N/A\n",
      "-100\n",
      "+26.92\n",
      "N/A\n",
      "+12.5\n",
      "+27.27\n",
      "+3.23\n",
      "+30\n"
     ]
    }
   ],
   "source": [
    "# Surprise (%)\n",
    "for item in earnings_info:\n",
    "    print(item.find(attrs={'aria-label': 'Surprise(%)'}).get_text())\n",
    "\n",
    "# <td class=\"Va(m) Fz(s) Ta(end) Px(15px) W(10%)\" aria-label=\"Surprise(%)\"><span class=\"Trsdu(0.3s) Fw(600) C($dataRed)\">-240</span></td>"
   ]
  },
  {
   "cell_type": "code",
   "execution_count": 106,
   "metadata": {},
   "outputs": [
    {
     "name": "stdout",
     "output_type": "stream",
     "text": [
      "2015-12-20\n",
      "2015-12-21\n",
      "2015-12-22\n",
      "2015-12-23\n",
      "2015-12-24\n",
      "2015-12-25\n",
      "2015-12-26\n",
      "2015-12-27\n",
      "2015-12-28\n",
      "2015-12-29\n",
      "2015-12-30\n",
      "2015-12-31\n",
      "2016-01-01\n",
      "2016-01-02\n",
      "2016-01-03\n",
      "2016-01-04\n",
      "2016-01-05\n",
      "2016-01-06\n",
      "2016-01-07\n",
      "2016-01-08\n",
      "2016-01-09\n",
      "2016-01-10\n",
      "2016-01-11\n"
     ]
    }
   ],
   "source": [
    "# https://finance.yahoo.com/calendar/earnings?day=2019-03-04\n",
    "\n",
    "from datetime import timedelta, date\n",
    "\n",
    "def daterange(date1, date2):\n",
    "    for n in range(int ((date2 - date1).days)+1):\n",
    "        yield date1 + timedelta(n)\n",
    "\n",
    "start_dt = date(2015, 12, 20)\n",
    "end_dt = date(2016, 1, 11)\n",
    "for dt in daterange(start_dt, end_dt):\n",
    "    print(dt.strftime(\"%Y-%m-%d\"))"
   ]
  },
  {
   "cell_type": "code",
   "execution_count": 1,
   "metadata": {},
   "outputs": [],
   "source": [
    "# import libraries\n",
    "from datetime import timedelta, date\n",
    "import requests, re\n",
    "from bs4 import BeautifulSoup\n",
    "from csv import writer, reader\n",
    "\n",
    "\n",
    "def daterange(date1, date2):\n",
    "    for n in range(int ((date2 - date1).days)+1):    # date range function \n",
    "        yield date1 + timedelta(n)                  # iterates and returns one date at a time\n",
    "\n",
    "        \n",
    "def get_eps():\n",
    "    \n",
    "    start_dt = date(2018, 1, 1)\n",
    "    end_dt = date(2019, 5, 30)\n",
    "\n",
    "    \n",
    "    with open('earnings_calendar.csv', 'w', encoding='utf-8', newline = '') as csv_file:\n",
    "        csv_writer = writer(csv_file)\n",
    "        csv_writer.writerow(['date_rpt', 'company', 'ticker', \n",
    "                             'EPS_est', 'EPS_act', 'suprise'])      # writes header\n",
    "\n",
    "        for dt in daterange(start_dt, end_dt):   # loops through date range aka pages\n",
    "            response = requests.get('https://finance.yahoo.com/calendar/earnings?day=' + dt.strftime(\"%Y-%m-%d\"))\n",
    "            soup = BeautifulSoup(response.text, 'html.parser')\n",
    "            earnings_info = soup.find_all(class_ = 'simpTblRow')\n",
    "            for row in earnings_info:\n",
    "                \n",
    "                date_rpt = dt.strftime(\"%Y-%m-%d\")\n",
    "                company = row.find(attrs={'aria-label': 'Company'}).get_text()\n",
    "                ticker = row.find('a').get_text()\n",
    "                EPS_est = row.find(attrs={'aria-label': 'EPS Estimate'}).get_text()                \n",
    "                EPS_act = row.find(attrs={'aria-label': 'Reported EPS'}).get_text()\n",
    "                suprise = row.find(attrs={'aria-label': 'Surprise(%)'}).get_text()\n",
    "                \n",
    "                csv_writer.writerow([date_rpt, company, ticker, EPS_est, EPS_act, suprise])\n",
    "            "
   ]
  },
  {
   "cell_type": "code",
   "execution_count": 2,
   "metadata": {},
   "outputs": [],
   "source": [
    "get_eps()"
   ]
  },
  {
   "cell_type": "code",
   "execution_count": null,
   "metadata": {},
   "outputs": [],
   "source": []
  }
 ],
 "metadata": {
  "kernelspec": {
   "display_name": "Python 3",
   "language": "python",
   "name": "python3"
  },
  "language_info": {
   "codemirror_mode": {
    "name": "ipython",
    "version": 3
   },
   "file_extension": ".py",
   "mimetype": "text/x-python",
   "name": "python",
   "nbconvert_exporter": "python",
   "pygments_lexer": "ipython3",
   "version": "3.7.0"
  }
 },
 "nbformat": 4,
 "nbformat_minor": 2
}
