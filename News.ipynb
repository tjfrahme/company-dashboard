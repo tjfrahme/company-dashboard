{
 "cells": [
  {
   "cell_type": "code",
   "execution_count": 17,
   "metadata": {},
   "outputs": [],
   "source": [
    "import requests, re\n",
    "import pandas as pd"
   ]
  },
  {
   "cell_type": "code",
   "execution_count": 7,
   "metadata": {},
   "outputs": [],
   "source": [
    "# Get top 50 companies by comments last 30 days - source is the all_comments file\n",
    "\n",
    "# Loop through each company and call the API\n",
    "\n",
    "# Save data to a Excel file\n",
    "\n",
    "import requests, datetime\n",
    "import pandas as pd\n",
    "import csv\n",
    "from csv import writer, reader\n",
    "\n",
    "def news_info():\n",
    "    \n",
    "    all_comments = pd.read_csv('all-comments.csv')\n",
    "    \n",
    "    begin_date = datetime.date.today() + datetime.timedelta(-30)  # gets 30 day prior date\n",
    "    begin_date = begin_date.strftime('%Y-%m-%d')    # converts to a string\n",
    "    \n",
    "    recent_comments = all_comments[all_comments['date'] > begin_date]\n",
    "    recent_comments = recent_comments['ticker'].value_counts().head(50).index\n",
    "\n",
    "    with open('news.csv', 'w', encoding='utf-8', newline = '') as file:    #Opens new file to write to\n",
    "        csv_object = csv.writer(file)\n",
    "        csv_object.writerow(['ticker', 'title', 'text', 'source_name', 'date', 'sentiment','news_url'])  #Header\n",
    "\n",
    "        for company in recent_comments:  # loops through each of the top tickers\n",
    "            url = 'https://stocknewsapi.com/api/v1?tickers=' + company + '&items=50&fallback=false&token=tptcqznuqvo0xmmpqw1dzbxlz5btqlkufaqxfjqx'\n",
    "            stories = requests.get(url)\n",
    "            stories = stories.json()   # decode the JSON response body into a dictionary\n",
    "            stories = stories['data']  # gets a list of dictionaries for each company \n",
    "            if len(stories) == 0:\n",
    "                pass                 # if no stories pass\n",
    "            else:\n",
    "                for story in stories:   #loops through the dictionary\n",
    "                    ticker = company\n",
    "                    title = story['title']\n",
    "                    text = story['text']\n",
    "                    source_name = story['source_name']\n",
    "                    date = story['date']\n",
    "                    sentiment = story['sentiment']\n",
    "                    news_url = story['news_url']\n",
    "\n",
    "                    csv_object.writerow([ticker, title, text, source_name, date, sentiment, news_url])\n",
    "                "
   ]
  },
  {
   "cell_type": "code",
   "execution_count": 8,
   "metadata": {},
   "outputs": [],
   "source": [
    "news_info()"
   ]
  },
  {
   "cell_type": "code",
   "execution_count": 13,
   "metadata": {},
   "outputs": [],
   "source": [
    "stories = requests.get('https://stocknewsapi.com/api/v1?tickers=TSLA&items=10&fallback=false&token=tptcqznuqvo0xmmpqw1dzbxlz5btqlkufaqxfjqx')"
   ]
  },
  {
   "cell_type": "code",
   "execution_count": 14,
   "metadata": {},
   "outputs": [
    {
     "data": {
      "text/plain": [
       "<Response [200]>"
      ]
     },
     "execution_count": 14,
     "metadata": {},
     "output_type": "execute_result"
    }
   ],
   "source": [
    "stories"
   ]
  },
  {
   "cell_type": "code",
   "execution_count": 15,
   "metadata": {},
   "outputs": [],
   "source": [
    "# decode the JSON response body into a dictionary\n",
    "stories = stories.json()"
   ]
  },
  {
   "cell_type": "code",
   "execution_count": 16,
   "metadata": {},
   "outputs": [
    {
     "data": {
      "text/plain": [
       "{'data': [{'title': \"Here's why the SEC has a problem with Elon Musk\",\n",
       "   'news_url': 'https://www.youtube.com/watch?v=b7Q2dlVjDww',\n",
       "   'image_url': 'https://stocknewsapi.com/images/v1/m/q/mqdefault-16-1.jpg',\n",
       "   'text': 'SEC seeks to hold Elon Musk in contempt of court on claims he violated an agreement.',\n",
       "   'sentiment': 'Negative',\n",
       "   'type': 'Video',\n",
       "   'source_name': 'Yahoo Finance',\n",
       "   'date': 'Tue, 12 Mar 2019 17:22:31 +0000',\n",
       "   'tickers': ['TSLA']},\n",
       "  {'title': 'Elon Musk fires back at SEC',\n",
       "   'news_url': 'https://www.youtube.com/watch?v=RdCjnYyXW34',\n",
       "   'image_url': 'https://stocknewsapi.com/images/v1/m/q/mqdefault-16.jpg',\n",
       "   'text': \"Rick Newman of Yahoo Finance breaks down why the SEC has issue with Elon Musk's tweets.\",\n",
       "   'sentiment': 'Negative',\n",
       "   'type': 'Video',\n",
       "   'source_name': 'Yahoo Finance',\n",
       "   'date': 'Tue, 12 Mar 2019 15:06:36 +0000',\n",
       "   'tickers': ['TSLA']},\n",
       "  {'title': \"Musk SEC Troubles 'Overwhelming' Tesla Story, Lehmann Says\",\n",
       "   'news_url': 'https://www.youtube.com/watch?v=N5CcoaLm-4Y',\n",
       "   'image_url': 'https://stocknewsapi.com/images/v1/m/q/mqdefault-8.jpg',\n",
       "   'text': 'Mark\\xa0Lehmann, president at JMP Securities, discusses the outlook for Tesla Inc. with Bloomberg\\'s Jonathan Ferro on \"Bloomberg Markets:\\xa0The\\xa0Open.\"',\n",
       "   'sentiment': 'Negative',\n",
       "   'type': 'Video',\n",
       "   'source_name': 'Bloomberg Markets and Finance',\n",
       "   'date': 'Tue, 12 Mar 2019 14:59:39 +0000',\n",
       "   'tickers': ['TSLA']},\n",
       "  {'title': \"Musk Calls SEC Censorship 'Unconstitutional,' Asks Judge To Dismiss Contempt Charge\",\n",
       "   'news_url': 'http://feeds.benzinga.com/~r/benzinga/~3/NgY78giHqtE/musk-calls-sec-censorship-unconstitutional-asks-judge-to-dismiss-contempt-charge',\n",
       "   'image_url': 'https://stocknewsapi.com/images/v1/e/l/elon-musk-in-mission-control-at-spacex-8.jpg',\n",
       "   'text': 'Tesla Inc CEO Elon Musk has never been one to take hits lying down.',\n",
       "   'sentiment': 'Negative',\n",
       "   'type': 'Article',\n",
       "   'source_name': 'Benzinga',\n",
       "   'date': 'Tue, 12 Mar 2019 13:18:49 +0000',\n",
       "   'tickers': ['TSLA']},\n",
       "  {'title': \"Morgan Stanley's Jonas: Tesla's stock to drop because price cuts reveal demand 'air pocket'\",\n",
       "   'news_url': 'https://www.cnbc.com/2019/03/12/tesla-headed-for-demand-air-pocket-morgan-stanley-sees-10percent-downside.html',\n",
       "   'image_url': 'https://stocknewsapi.com/images/v1/1/0/105773439-1551717349171rtx6p9uc530x298.jpg',\n",
       "   'text': 'Tesla\\'s Model 3 price cut suggests the electric car maker is approaching an \"air pocket\" in demand, Morgan Stanley says.',\n",
       "   'sentiment': 'Negative',\n",
       "   'type': 'Article',\n",
       "   'source_name': 'CNBC',\n",
       "   'date': 'Tue, 12 Mar 2019 13:18:32 +0000',\n",
       "   'tickers': ['TSLA']},\n",
       "  {'title': 'Tesla Is Completely Out of Control',\n",
       "   'news_url': 'https://www.fool.com/investing/2019/03/12/tesla-is-completely-out-of-control.aspx?source=iedfolrf0000001',\n",
       "   'image_url': 'https://stocknewsapi.com/images/v1/u/r/urlhttps3a2f2fgfoolcdncom2feditorial2fimages2f5158312findustrials-autos-tesla-model-3-tsla.jpg',\n",
       "   'text': 'Erratic decision-making is probably a sign of deeper problems at Tesla.',\n",
       "   'sentiment': 'Negative',\n",
       "   'type': 'Article',\n",
       "   'source_name': 'The Motley Fool',\n",
       "   'date': 'Tue, 12 Mar 2019 12:36:21 +0000',\n",
       "   'tickers': ['TSLA']},\n",
       "  {'title': \"Elon Musk's lawyers shoot down SEC filing against Tesla CEO\",\n",
       "   'news_url': 'https://www.cnbc.com/2019/03/12/elon-musks-lawyers-shoot-down-sec-lawsuit.html',\n",
       "   'image_url': 'https://stocknewsapi.com/images/v1/1/0/105637070-1545233697961rtx6j4ym530x298.jpg',\n",
       "   'text': \"Tesla CEO Elon Musk shot back against U.S. securities regulators on Monday, arguing in a filing that his recent tweet about the electric vehicle maker's production volume did not violate the court's judgment.\",\n",
       "   'sentiment': 'Negative',\n",
       "   'type': 'Article',\n",
       "   'source_name': 'CNBC',\n",
       "   'date': 'Tue, 12 Mar 2019 02:24:13 +0000',\n",
       "   'tickers': ['TSLA']},\n",
       "  {'title': 'Model 3 Demand Is Potentially a Lot More Than Expected, Tesla Analyst Rusch Says',\n",
       "   'news_url': 'https://www.youtube.com/watch?v=dfr20qbFFHY',\n",
       "   'image_url': 'https://stocknewsapi.com/images/v1/t/e/tesla-13.jpg',\n",
       "   'text': 'Elon Musk is backtracking from a change in Tesla Inc.’s retailing strategy, keeping many of the company’s stores open and raising the prices of its electric cars. Oppenheimer analyst Colin Rusch and Bloomberg\\'s Craig Trudell discuss on \"Bloomberg Technology.\"',\n",
       "   'sentiment': 'Positive',\n",
       "   'type': 'Video',\n",
       "   'source_name': 'Bloomberg Technology',\n",
       "   'date': 'Mon, 11 Mar 2019 23:50:43 +0000',\n",
       "   'tickers': ['TSLA']},\n",
       "  {'title': 'Tesla scales backs store closing and raises prices',\n",
       "   'news_url': 'https://www.youtube.com/watch?v=o6tMGJj3d3Y',\n",
       "   'image_url': 'https://stocknewsapi.com/images/v1/o/6/o6tmgjj3d3y.jpg',\n",
       "   'text': \"Jackie DeAngelis and Dan Howley of Yahoo Finance discuss the reason for Tesla's decision to reconsider closing all of its stores.\",\n",
       "   'sentiment': 'None',\n",
       "   'type': 'Video',\n",
       "   'source_name': 'Yahoo Finance',\n",
       "   'date': 'Mon, 11 Mar 2019 22:26:07 +0000',\n",
       "   'tickers': ['TSLA']},\n",
       "  {'title': 'Is The Street Ready For A 33% Tesla Unit Delivery Miss In Q1?',\n",
       "   'news_url': 'https://seekingalpha.com/article/4247782-street-ready-33-percent-tesla-unit-delivery-miss-q1?source=feed_tag_short_ideas',\n",
       "   'image_url': 'https://stocknewsapi.com/images/v1/t/e/tesla-1-2-1.jpg',\n",
       "   'text': 'CNBC personality and top Tesla bull Trip Chowdhry from Global Equities Research has dramatically cut his Q1 Tesla unit delivery estimate by almost 50%',\n",
       "   'sentiment': 'Negative',\n",
       "   'type': 'Article',\n",
       "   'source_name': 'Seeking Alpha',\n",
       "   'date': 'Mon, 11 Mar 2019 22:20:41 +0000',\n",
       "   'tickers': ['TSLA']}]}"
      ]
     },
     "execution_count": 16,
     "metadata": {},
     "output_type": "execute_result"
    }
   ],
   "source": [
    "stories # dictionary where data is key and a list of dictionary's are the values"
   ]
  },
  {
   "cell_type": "code",
   "execution_count": 9,
   "metadata": {},
   "outputs": [
    {
     "data": {
      "text/plain": [
       "[]"
      ]
     },
     "execution_count": 9,
     "metadata": {},
     "output_type": "execute_result"
    }
   ],
   "source": [
    "stories = stories['data']\n",
    "stories"
   ]
  },
  {
   "cell_type": "code",
   "execution_count": 10,
   "metadata": {},
   "outputs": [
    {
     "data": {
      "text/plain": [
       "0"
      ]
     },
     "execution_count": 10,
     "metadata": {},
     "output_type": "execute_result"
    }
   ],
   "source": [
    "len(stories)"
   ]
  },
  {
   "cell_type": "code",
   "execution_count": 12,
   "metadata": {},
   "outputs": [
    {
     "name": "stdout",
     "output_type": "stream",
     "text": [
      "hello\n"
     ]
    }
   ],
   "source": [
    "if len(stories) == 0:\n",
    "    pass\n",
    "else:\n",
    "    for story in stories:\n",
    "        print (story['date'])\n",
    "\n",
    "print ('hello')"
   ]
  },
  {
   "cell_type": "code",
   "execution_count": 316,
   "metadata": {},
   "outputs": [],
   "source": [
    "# Get top 100 companies by comments, last 30 days\n",
    "\n",
    "all_comments = pd.read_csv('all-comments.csv')"
   ]
  },
  {
   "cell_type": "code",
   "execution_count": 317,
   "metadata": {},
   "outputs": [
    {
     "data": {
      "text/html": [
       "<div>\n",
       "<style scoped>\n",
       "    .dataframe tbody tr th:only-of-type {\n",
       "        vertical-align: middle;\n",
       "    }\n",
       "\n",
       "    .dataframe tbody tr th {\n",
       "        vertical-align: top;\n",
       "    }\n",
       "\n",
       "    .dataframe thead th {\n",
       "        text-align: right;\n",
       "    }\n",
       "</style>\n",
       "<table border=\"1\" class=\"dataframe\">\n",
       "  <thead>\n",
       "    <tr style=\"text-align: right;\">\n",
       "      <th></th>\n",
       "      <th>company</th>\n",
       "      <th>ticker</th>\n",
       "      <th>title</th>\n",
       "      <th>body</th>\n",
       "      <th>date</th>\n",
       "      <th>replies</th>\n",
       "    </tr>\n",
       "  </thead>\n",
       "  <tbody>\n",
       "    <tr>\n",
       "      <th>0</th>\n",
       "      <td>A. H. Belo Corporation</td>\n",
       "      <td>AHC</td>\n",
       "      <td>Any updates on layoffs at DMN Media</td>\n",
       "      <td>This is for 2017. Do you have updates - they r...</td>\n",
       "      <td>2017-08-23</td>\n",
       "      <td>0</td>\n",
       "    </tr>\n",
       "    <tr>\n",
       "      <th>1</th>\n",
       "      <td>A. Schulman Inc.</td>\n",
       "      <td>SHLM</td>\n",
       "      <td>I've seen worse years</td>\n",
       "      <td>The whole industry is doing well this year and...</td>\n",
       "      <td>2014-05-24</td>\n",
       "      <td>0</td>\n",
       "    </tr>\n",
       "    <tr>\n",
       "      <th>2</th>\n",
       "      <td>A.C. Moore Arts &amp; Crafts Inc.</td>\n",
       "      <td>ACMR</td>\n",
       "      <td>ACMR is closing stores</td>\n",
       "      <td>How reliable is this info</td>\n",
       "      <td>2017-03-13</td>\n",
       "      <td>0</td>\n",
       "    </tr>\n",
       "    <tr>\n",
       "      <th>3</th>\n",
       "      <td>A.C. Moore Arts &amp; Crafts Inc.</td>\n",
       "      <td>ACMR</td>\n",
       "      <td>Amazon is cannibalizing the whole market, let'...</td>\n",
       "      <td>I would like to see AC Moore recover, but it l...</td>\n",
       "      <td>2014-07-22</td>\n",
       "      <td>0</td>\n",
       "    </tr>\n",
       "    <tr>\n",
       "      <th>4</th>\n",
       "      <td>A.C. Moore Arts &amp; Crafts Inc.</td>\n",
       "      <td>ACMR</td>\n",
       "      <td>Another online victim</td>\n",
       "      <td>Amazon is killing all of us - we'll see what 2...</td>\n",
       "      <td>2014-05-24</td>\n",
       "      <td>0</td>\n",
       "    </tr>\n",
       "  </tbody>\n",
       "</table>\n",
       "</div>"
      ],
      "text/plain": [
       "                         company ticker  \\\n",
       "0         A. H. Belo Corporation    AHC   \n",
       "1               A. Schulman Inc.   SHLM   \n",
       "2  A.C. Moore Arts & Crafts Inc.   ACMR   \n",
       "3  A.C. Moore Arts & Crafts Inc.   ACMR   \n",
       "4  A.C. Moore Arts & Crafts Inc.   ACMR   \n",
       "\n",
       "                                               title  \\\n",
       "0                Any updates on layoffs at DMN Media   \n",
       "1                              I've seen worse years   \n",
       "2                             ACMR is closing stores   \n",
       "3  Amazon is cannibalizing the whole market, let'...   \n",
       "4                              Another online victim   \n",
       "\n",
       "                                                body        date  replies  \n",
       "0  This is for 2017. Do you have updates - they r...  2017-08-23        0  \n",
       "1  The whole industry is doing well this year and...  2014-05-24        0  \n",
       "2                          How reliable is this info  2017-03-13        0  \n",
       "3  I would like to see AC Moore recover, but it l...  2014-07-22        0  \n",
       "4  Amazon is killing all of us - we'll see what 2...  2014-05-24        0  "
      ]
     },
     "execution_count": 317,
     "metadata": {},
     "output_type": "execute_result"
    }
   ],
   "source": [
    "all_comments.head()"
   ]
  },
  {
   "cell_type": "code",
   "execution_count": 319,
   "metadata": {},
   "outputs": [
    {
     "data": {
      "text/html": [
       "<div>\n",
       "<style scoped>\n",
       "    .dataframe tbody tr th:only-of-type {\n",
       "        vertical-align: middle;\n",
       "    }\n",
       "\n",
       "    .dataframe tbody tr th {\n",
       "        vertical-align: top;\n",
       "    }\n",
       "\n",
       "    .dataframe thead th {\n",
       "        text-align: right;\n",
       "    }\n",
       "</style>\n",
       "<table border=\"1\" class=\"dataframe\">\n",
       "  <thead>\n",
       "    <tr style=\"text-align: right;\">\n",
       "      <th></th>\n",
       "      <th>company</th>\n",
       "      <th>ticker</th>\n",
       "      <th>title</th>\n",
       "      <th>body</th>\n",
       "      <th>date</th>\n",
       "      <th>replies</th>\n",
       "    </tr>\n",
       "  </thead>\n",
       "  <tbody>\n",
       "    <tr>\n",
       "      <th>111</th>\n",
       "      <td>ADP</td>\n",
       "      <td>ADP</td>\n",
       "      <td>Declined VERP, then got laid off</td>\n",
       "      <td>Does anyone have first hand knowledge of an em...</td>\n",
       "      <td>2019-03-05</td>\n",
       "      <td>2</td>\n",
       "    </tr>\n",
       "    <tr>\n",
       "      <th>112</th>\n",
       "      <td>ADP</td>\n",
       "      <td>ADP</td>\n",
       "      <td>Anyone here from ADP RPO? I know we have also ...</td>\n",
       "      <td>no body text</td>\n",
       "      <td>2019-03-05</td>\n",
       "      <td>0</td>\n",
       "    </tr>\n",
       "    <tr>\n",
       "      <th>113</th>\n",
       "      <td>ADP</td>\n",
       "      <td>ADP</td>\n",
       "      <td>Do we know total numbers?</td>\n",
       "      <td>Do we know how many people received their noti...</td>\n",
       "      <td>2019-03-01</td>\n",
       "      <td>0</td>\n",
       "    </tr>\n",
       "    <tr>\n",
       "      <th>114</th>\n",
       "      <td>ADP</td>\n",
       "      <td>ADP</td>\n",
       "      <td>St Louis Office Closing</td>\n",
       "      <td>St Louis Office Closing in April. Employees th...</td>\n",
       "      <td>2019-02-28</td>\n",
       "      <td>15</td>\n",
       "    </tr>\n",
       "    <tr>\n",
       "      <th>115</th>\n",
       "      <td>ADP</td>\n",
       "      <td>ADP</td>\n",
       "      <td>Last round of VERP</td>\n",
       "      <td>Last round of VERP associates leave on Friday ...</td>\n",
       "      <td>2019-02-26</td>\n",
       "      <td>15</td>\n",
       "    </tr>\n",
       "  </tbody>\n",
       "</table>\n",
       "</div>"
      ],
      "text/plain": [
       "    company ticker                                              title  \\\n",
       "111     ADP    ADP                   Declined VERP, then got laid off   \n",
       "112     ADP    ADP  Anyone here from ADP RPO? I know we have also ...   \n",
       "113     ADP    ADP                          Do we know total numbers?   \n",
       "114     ADP    ADP                            St Louis Office Closing   \n",
       "115     ADP    ADP                                 Last round of VERP   \n",
       "\n",
       "                                                  body        date  replies  \n",
       "111  Does anyone have first hand knowledge of an em...  2019-03-05        2  \n",
       "112                                       no body text  2019-03-05        0  \n",
       "113  Do we know how many people received their noti...  2019-03-01        0  \n",
       "114  St Louis Office Closing in April. Employees th...  2019-02-28       15  \n",
       "115  Last round of VERP associates leave on Friday ...  2019-02-26       15  "
      ]
     },
     "execution_count": 319,
     "metadata": {},
     "output_type": "execute_result"
    }
   ],
   "source": [
    "top_comments = all_comments[all_comments['date'] > '2019-02-11']\n",
    "top_comments.head()"
   ]
  },
  {
   "cell_type": "code",
   "execution_count": 299,
   "metadata": {},
   "outputs": [
    {
     "data": {
      "text/plain": [
       "VZ      40\n",
       "WMT     40\n",
       "BK      40\n",
       "DVN     40\n",
       "PEP     40\n",
       "SHLD    40\n",
       "CVS     40\n",
       "WIN     40\n",
       "QCOM    40\n",
       "UNP     40\n",
       "LOW     40\n",
       "GM      40\n",
       "XRX     40\n",
       "ORCL    39\n",
       "BKS     38\n",
       "DXC     35\n",
       "GE      33\n",
       "BBBY    30\n",
       "ATUS    27\n",
       "AIG     26\n",
       "Name: ticker, dtype: int64"
      ]
     },
     "execution_count": 299,
     "metadata": {},
     "output_type": "execute_result"
    }
   ],
   "source": [
    "top_comments['ticker'].value_counts().head(20)"
   ]
  },
  {
   "cell_type": "code",
   "execution_count": 320,
   "metadata": {},
   "outputs": [],
   "source": [
    "top_comments = top_comments['ticker'].value_counts().head(20).index"
   ]
  },
  {
   "cell_type": "code",
   "execution_count": 321,
   "metadata": {},
   "outputs": [
    {
     "data": {
      "text/plain": [
       "Index(['VZ', 'WMT', 'BK', 'DVN', 'PEP', 'SHLD', 'CVS', 'WIN', 'QCOM', 'UNP',\n",
       "       'LOW', 'GM', 'XRX', 'ORCL', 'BKS', 'DXC', 'GE', 'BBBY', 'ATUS', 'AIG'],\n",
       "      dtype='object')"
      ]
     },
     "execution_count": 321,
     "metadata": {},
     "output_type": "execute_result"
    }
   ],
   "source": [
    "top_comments"
   ]
  },
  {
   "cell_type": "code",
   "execution_count": 326,
   "metadata": {},
   "outputs": [],
   "source": [
    "# alt way using groupby\n",
    "top_comp = all_comments.groupby('ticker')"
   ]
  },
  {
   "cell_type": "code",
   "execution_count": 333,
   "metadata": {},
   "outputs": [
    {
     "data": {
      "text/html": [
       "<div>\n",
       "<style scoped>\n",
       "    .dataframe tbody tr th:only-of-type {\n",
       "        vertical-align: middle;\n",
       "    }\n",
       "\n",
       "    .dataframe tbody tr th {\n",
       "        vertical-align: top;\n",
       "    }\n",
       "\n",
       "    .dataframe thead th {\n",
       "        text-align: right;\n",
       "    }\n",
       "</style>\n",
       "<table border=\"1\" class=\"dataframe\">\n",
       "  <thead>\n",
       "    <tr style=\"text-align: right;\">\n",
       "      <th></th>\n",
       "      <th>company</th>\n",
       "      <th>title</th>\n",
       "      <th>body</th>\n",
       "      <th>date</th>\n",
       "      <th>replies</th>\n",
       "    </tr>\n",
       "    <tr>\n",
       "      <th>ticker</th>\n",
       "      <th></th>\n",
       "      <th></th>\n",
       "      <th></th>\n",
       "      <th></th>\n",
       "      <th></th>\n",
       "    </tr>\n",
       "  </thead>\n",
       "  <tbody>\n",
       "    <tr>\n",
       "      <th>BA</th>\n",
       "      <td>51</td>\n",
       "      <td>51</td>\n",
       "      <td>51</td>\n",
       "      <td>51</td>\n",
       "      <td>51</td>\n",
       "    </tr>\n",
       "    <tr>\n",
       "      <th>LINC</th>\n",
       "      <td>48</td>\n",
       "      <td>48</td>\n",
       "      <td>48</td>\n",
       "      <td>48</td>\n",
       "      <td>48</td>\n",
       "    </tr>\n",
       "    <tr>\n",
       "      <th>DE</th>\n",
       "      <td>46</td>\n",
       "      <td>46</td>\n",
       "      <td>46</td>\n",
       "      <td>46</td>\n",
       "      <td>46</td>\n",
       "    </tr>\n",
       "    <tr>\n",
       "      <th>TTM</th>\n",
       "      <td>44</td>\n",
       "      <td>44</td>\n",
       "      <td>44</td>\n",
       "      <td>44</td>\n",
       "      <td>44</td>\n",
       "    </tr>\n",
       "    <tr>\n",
       "      <th>COP</th>\n",
       "      <td>41</td>\n",
       "      <td>41</td>\n",
       "      <td>41</td>\n",
       "      <td>41</td>\n",
       "      <td>41</td>\n",
       "    </tr>\n",
       "  </tbody>\n",
       "</table>\n",
       "</div>"
      ],
      "text/plain": [
       "        company  title  body  date  replies\n",
       "ticker                                     \n",
       "BA           51     51    51    51       51\n",
       "LINC         48     48    48    48       48\n",
       "DE           46     46    46    46       46\n",
       "TTM          44     44    44    44       44\n",
       "COP          41     41    41    41       41"
      ]
     },
     "execution_count": 333,
     "metadata": {},
     "output_type": "execute_result"
    }
   ],
   "source": [
    "top_comp.head()"
   ]
  },
  {
   "cell_type": "code",
   "execution_count": 334,
   "metadata": {},
   "outputs": [
    {
     "data": {
      "text/plain": [
       "Index(['BA', 'LINC', 'DE', 'TTM', 'COP', 'WFT', 'QCOM', 'GE', 'BBT', 'WIND',\n",
       "       ...\n",
       "       'EQM', 'EQR', 'PDCE', 'EQT', 'ERA', 'PCZ', 'ERN', 'EROC', 'PCOP',\n",
       "       'QMED'],\n",
       "      dtype='object', name='ticker', length=3280)"
      ]
     },
     "execution_count": 334,
     "metadata": {},
     "output_type": "execute_result"
    }
   ],
   "source": [
    "top_comp.index"
   ]
  },
  {
   "cell_type": "code",
   "execution_count": 59,
   "metadata": {},
   "outputs": [],
   "source": [
    "# get last 30 days date\n",
    "import datetime"
   ]
  },
  {
   "cell_type": "code",
   "execution_count": 335,
   "metadata": {},
   "outputs": [],
   "source": [
    "begin_date = datetime.date.today() + datetime.timedelta(-30)\n",
    "begin_date = begin_date.strftime('%Y-%m-%d')"
   ]
  },
  {
   "cell_type": "code",
   "execution_count": 336,
   "metadata": {},
   "outputs": [
    {
     "data": {
      "text/plain": [
       "'2019-02-10'"
      ]
     },
     "execution_count": 336,
     "metadata": {},
     "output_type": "execute_result"
    }
   ],
   "source": [
    "begin_date"
   ]
  },
  {
   "cell_type": "code",
   "execution_count": 337,
   "metadata": {},
   "outputs": [
    {
     "data": {
      "text/plain": [
       "str"
      ]
     },
     "execution_count": 337,
     "metadata": {},
     "output_type": "execute_result"
    }
   ],
   "source": [
    "test_date = '2019-03-01'\n",
    "type(test_date)"
   ]
  },
  {
   "cell_type": "code",
   "execution_count": 338,
   "metadata": {},
   "outputs": [
    {
     "data": {
      "text/html": [
       "<div>\n",
       "<style scoped>\n",
       "    .dataframe tbody tr th:only-of-type {\n",
       "        vertical-align: middle;\n",
       "    }\n",
       "\n",
       "    .dataframe tbody tr th {\n",
       "        vertical-align: top;\n",
       "    }\n",
       "\n",
       "    .dataframe thead th {\n",
       "        text-align: right;\n",
       "    }\n",
       "</style>\n",
       "<table border=\"1\" class=\"dataframe\">\n",
       "  <thead>\n",
       "    <tr style=\"text-align: right;\">\n",
       "      <th></th>\n",
       "      <th>company</th>\n",
       "      <th>ticker</th>\n",
       "      <th>title</th>\n",
       "      <th>body</th>\n",
       "      <th>date</th>\n",
       "      <th>replies</th>\n",
       "    </tr>\n",
       "  </thead>\n",
       "  <tbody>\n",
       "    <tr>\n",
       "      <th>111</th>\n",
       "      <td>ADP</td>\n",
       "      <td>ADP</td>\n",
       "      <td>Declined VERP, then got laid off</td>\n",
       "      <td>Does anyone have first hand knowledge of an em...</td>\n",
       "      <td>2019-03-05</td>\n",
       "      <td>2</td>\n",
       "    </tr>\n",
       "    <tr>\n",
       "      <th>112</th>\n",
       "      <td>ADP</td>\n",
       "      <td>ADP</td>\n",
       "      <td>Anyone here from ADP RPO? I know we have also ...</td>\n",
       "      <td>no body text</td>\n",
       "      <td>2019-03-05</td>\n",
       "      <td>0</td>\n",
       "    </tr>\n",
       "    <tr>\n",
       "      <th>113</th>\n",
       "      <td>ADP</td>\n",
       "      <td>ADP</td>\n",
       "      <td>Do we know total numbers?</td>\n",
       "      <td>Do we know how many people received their noti...</td>\n",
       "      <td>2019-03-01</td>\n",
       "      <td>0</td>\n",
       "    </tr>\n",
       "    <tr>\n",
       "      <th>114</th>\n",
       "      <td>ADP</td>\n",
       "      <td>ADP</td>\n",
       "      <td>St Louis Office Closing</td>\n",
       "      <td>St Louis Office Closing in April. Employees th...</td>\n",
       "      <td>2019-02-28</td>\n",
       "      <td>15</td>\n",
       "    </tr>\n",
       "    <tr>\n",
       "      <th>115</th>\n",
       "      <td>ADP</td>\n",
       "      <td>ADP</td>\n",
       "      <td>Last round of VERP</td>\n",
       "      <td>Last round of VERP associates leave on Friday ...</td>\n",
       "      <td>2019-02-26</td>\n",
       "      <td>15</td>\n",
       "    </tr>\n",
       "  </tbody>\n",
       "</table>\n",
       "</div>"
      ],
      "text/plain": [
       "    company ticker                                              title  \\\n",
       "111     ADP    ADP                   Declined VERP, then got laid off   \n",
       "112     ADP    ADP  Anyone here from ADP RPO? I know we have also ...   \n",
       "113     ADP    ADP                          Do we know total numbers?   \n",
       "114     ADP    ADP                            St Louis Office Closing   \n",
       "115     ADP    ADP                                 Last round of VERP   \n",
       "\n",
       "                                                  body        date  replies  \n",
       "111  Does anyone have first hand knowledge of an em...  2019-03-05        2  \n",
       "112                                       no body text  2019-03-05        0  \n",
       "113  Do we know how many people received their noti...  2019-03-01        0  \n",
       "114  St Louis Office Closing in April. Employees th...  2019-02-28       15  \n",
       "115  Last round of VERP associates leave on Friday ...  2019-02-26       15  "
      ]
     },
     "execution_count": 338,
     "metadata": {},
     "output_type": "execute_result"
    }
   ],
   "source": [
    "top_comments = all_comments[all_comments['date'] > begin_date]\n",
    "top_comments.head()"
   ]
  },
  {
   "cell_type": "code",
   "execution_count": null,
   "metadata": {},
   "outputs": [],
   "source": []
  }
 ],
 "metadata": {
  "kernelspec": {
   "display_name": "Python 3",
   "language": "python",
   "name": "python3"
  },
  "language_info": {
   "codemirror_mode": {
    "name": "ipython",
    "version": 3
   },
   "file_extension": ".py",
   "mimetype": "text/x-python",
   "name": "python",
   "nbconvert_exporter": "python",
   "pygments_lexer": "ipython3",
   "version": "3.7.0"
  }
 },
 "nbformat": 4,
 "nbformat_minor": 2
}
