{
 "cells": [
  {
   "cell_type": "code",
   "execution_count": 1,
   "metadata": {},
   "outputs": [],
   "source": [
    "# https://pandas-datareader.readthedocs.io\n",
    "import pandas_datareader.data as web\n",
    "\n",
    "from datetime import datetime, date, timedelta\n",
    "import requests, re\n",
    "import pandas as pd\n",
    "from bs4 import BeautifulSoup\n",
    "from csv import writer, reader\n",
    "\n",
    "\n",
    "        \n",
    "def stock_prices():\n",
    "    \n",
    "    # date range of stock quotes\n",
    "    start_dt = datetime(2018, 1, 1)\n",
    "    end_dt = datetime(2019, 5, 30)\n",
    "    \n",
    "    # date of top comments\n",
    "#     comment_dt = datetime.date.today() + datetime.timedelta(-30)\n",
    "#     comment_dt = comment_dt.strftime('%Y-%m-%d') \n",
    "    comment_dt = datetime(2019, 2, 1).strftime('%Y-%m-%d')  # converts to string\n",
    "    \n",
    "    \n",
    "    # open pandas, get list of ticker symbols\n",
    "    all_comments = pd.read_csv('all-comments.csv')\n",
    "    recent_comments = all_comments[all_comments['date'] > comment_dt]  # df with comments after date\n",
    "    recent_comments = recent_comments['ticker'].value_counts().head(50).index  # return list of tickers\n",
    "    \n",
    "    \n",
    "    with open('stock_prices.csv', 'w', encoding='utf-8', newline = '') as csv_file:\n",
    "        csv_writer = writer(csv_file)\n",
    "        csv_writer.writerow(['ticker', 'date', 'open_price', 'close_price', 'volume'])  # writes header\n",
    "    \n",
    "        for company in recent_comments:  # loops through each of the top comments \n",
    "            try:\n",
    "                prices = web.DataReader(company, 'iex', start_dt, end_dt)   # calls pandas datareader\n",
    "                for index, row in prices.iterrows():   # iterates through df and writes to excel fi\n",
    "                    ticker = company\n",
    "                    date = index\n",
    "                    open_price =  row['open']\n",
    "                    close_price = row['close']\n",
    "                    volume = row['volume']\n",
    "\n",
    "                    csv_writer.writerow([ticker, date, open_price, close_price, volume])\n",
    "            except:\n",
    "                pass"
   ]
  },
  {
   "cell_type": "code",
   "execution_count": 2,
   "metadata": {},
   "outputs": [],
   "source": [
    "stock_prices()"
   ]
  },
  {
   "cell_type": "code",
   "execution_count": 9,
   "metadata": {},
   "outputs": [],
   "source": [
    "start = datetime(2015, 2, 9)\n",
    "end = datetime(2019, 5, 24)\n",
    "f = web.DataReader(['TSLA', 'F'], 'iex', start, end)"
   ]
  },
  {
   "cell_type": "code",
   "execution_count": 11,
   "metadata": {},
   "outputs": [
    {
     "data": {
      "text/html": [
       "<div>\n",
       "<style scoped>\n",
       "    .dataframe tbody tr th:only-of-type {\n",
       "        vertical-align: middle;\n",
       "    }\n",
       "\n",
       "    .dataframe tbody tr th {\n",
       "        vertical-align: top;\n",
       "    }\n",
       "\n",
       "    .dataframe thead tr th {\n",
       "        text-align: left;\n",
       "    }\n",
       "\n",
       "    .dataframe thead tr:last-of-type th {\n",
       "        text-align: right;\n",
       "    }\n",
       "</style>\n",
       "<table border=\"1\" class=\"dataframe\">\n",
       "  <thead>\n",
       "    <tr>\n",
       "      <th>Attributes</th>\n",
       "      <th colspan=\"2\" halign=\"left\">open</th>\n",
       "      <th colspan=\"2\" halign=\"left\">high</th>\n",
       "      <th colspan=\"2\" halign=\"left\">low</th>\n",
       "      <th colspan=\"2\" halign=\"left\">close</th>\n",
       "      <th colspan=\"2\" halign=\"left\">volume</th>\n",
       "    </tr>\n",
       "    <tr>\n",
       "      <th>Symbols</th>\n",
       "      <th>F</th>\n",
       "      <th>TSLA</th>\n",
       "      <th>F</th>\n",
       "      <th>TSLA</th>\n",
       "      <th>F</th>\n",
       "      <th>TSLA</th>\n",
       "      <th>F</th>\n",
       "      <th>TSLA</th>\n",
       "      <th>F</th>\n",
       "      <th>TSLA</th>\n",
       "    </tr>\n",
       "    <tr>\n",
       "      <th>date</th>\n",
       "      <th></th>\n",
       "      <th></th>\n",
       "      <th></th>\n",
       "      <th></th>\n",
       "      <th></th>\n",
       "      <th></th>\n",
       "      <th></th>\n",
       "      <th></th>\n",
       "      <th></th>\n",
       "      <th></th>\n",
       "    </tr>\n",
       "  </thead>\n",
       "  <tbody>\n",
       "    <tr>\n",
       "      <th>2015-02-09</th>\n",
       "      <td>12.4243</td>\n",
       "      <td>215.38</td>\n",
       "      <td>12.6372</td>\n",
       "      <td>217.9300</td>\n",
       "      <td>12.3928</td>\n",
       "      <td>211.99</td>\n",
       "      <td>12.5505</td>\n",
       "      <td>217.48</td>\n",
       "      <td>20286720</td>\n",
       "      <td>3472423</td>\n",
       "    </tr>\n",
       "    <tr>\n",
       "      <th>2015-02-10</th>\n",
       "      <td>12.6530</td>\n",
       "      <td>217.55</td>\n",
       "      <td>12.7239</td>\n",
       "      <td>220.5000</td>\n",
       "      <td>12.5426</td>\n",
       "      <td>215.00</td>\n",
       "      <td>12.6845</td>\n",
       "      <td>216.29</td>\n",
       "      <td>27928530</td>\n",
       "      <td>5390542</td>\n",
       "    </tr>\n",
       "    <tr>\n",
       "      <th>2015-02-11</th>\n",
       "      <td>12.6766</td>\n",
       "      <td>212.21</td>\n",
       "      <td>12.8579</td>\n",
       "      <td>214.7400</td>\n",
       "      <td>12.6214</td>\n",
       "      <td>207.28</td>\n",
       "      <td>12.8106</td>\n",
       "      <td>212.80</td>\n",
       "      <td>34285331</td>\n",
       "      <td>9769102</td>\n",
       "    </tr>\n",
       "    <tr>\n",
       "      <th>2015-02-12</th>\n",
       "      <td>12.8816</td>\n",
       "      <td>193.57</td>\n",
       "      <td>12.9683</td>\n",
       "      <td>203.0882</td>\n",
       "      <td>12.8501</td>\n",
       "      <td>193.28</td>\n",
       "      <td>12.8974</td>\n",
       "      <td>202.88</td>\n",
       "      <td>23738806</td>\n",
       "      <td>15649607</td>\n",
       "    </tr>\n",
       "    <tr>\n",
       "      <th>2015-02-13</th>\n",
       "      <td>12.8737</td>\n",
       "      <td>202.90</td>\n",
       "      <td>12.8974</td>\n",
       "      <td>205.9900</td>\n",
       "      <td>12.7633</td>\n",
       "      <td>200.91</td>\n",
       "      <td>12.8501</td>\n",
       "      <td>203.77</td>\n",
       "      <td>19954568</td>\n",
       "      <td>6191003</td>\n",
       "    </tr>\n",
       "  </tbody>\n",
       "</table>\n",
       "</div>"
      ],
      "text/plain": [
       "Attributes     open             high                low            close  \\\n",
       "Symbols           F    TSLA        F      TSLA        F    TSLA        F   \n",
       "date                                                                       \n",
       "2015-02-09  12.4243  215.38  12.6372  217.9300  12.3928  211.99  12.5505   \n",
       "2015-02-10  12.6530  217.55  12.7239  220.5000  12.5426  215.00  12.6845   \n",
       "2015-02-11  12.6766  212.21  12.8579  214.7400  12.6214  207.28  12.8106   \n",
       "2015-02-12  12.8816  193.57  12.9683  203.0882  12.8501  193.28  12.8974   \n",
       "2015-02-13  12.8737  202.90  12.8974  205.9900  12.7633  200.91  12.8501   \n",
       "\n",
       "Attributes            volume            \n",
       "Symbols       TSLA         F      TSLA  \n",
       "date                                    \n",
       "2015-02-09  217.48  20286720   3472423  \n",
       "2015-02-10  216.29  27928530   5390542  \n",
       "2015-02-11  212.80  34285331   9769102  \n",
       "2015-02-12  202.88  23738806  15649607  \n",
       "2015-02-13  203.77  19954568   6191003  "
      ]
     },
     "execution_count": 11,
     "metadata": {},
     "output_type": "execute_result"
    }
   ],
   "source": [
    "f.head()"
   ]
  },
  {
   "cell_type": "code",
   "execution_count": 100,
   "metadata": {},
   "outputs": [],
   "source": [
    "try:\n",
    "    f2 = web.DataReader('TSLS', 'iex', start, end)\n",
    "except:\n",
    "    pass"
   ]
  },
  {
   "cell_type": "code",
   "execution_count": 101,
   "metadata": {},
   "outputs": [
    {
     "data": {
      "text/html": [
       "<div>\n",
       "<style scoped>\n",
       "    .dataframe tbody tr th:only-of-type {\n",
       "        vertical-align: middle;\n",
       "    }\n",
       "\n",
       "    .dataframe tbody tr th {\n",
       "        vertical-align: top;\n",
       "    }\n",
       "\n",
       "    .dataframe thead th {\n",
       "        text-align: right;\n",
       "    }\n",
       "</style>\n",
       "<table border=\"1\" class=\"dataframe\">\n",
       "  <thead>\n",
       "    <tr style=\"text-align: right;\">\n",
       "      <th></th>\n",
       "      <th>open</th>\n",
       "      <th>high</th>\n",
       "      <th>low</th>\n",
       "      <th>close</th>\n",
       "      <th>volume</th>\n",
       "    </tr>\n",
       "    <tr>\n",
       "      <th>date</th>\n",
       "      <th></th>\n",
       "      <th></th>\n",
       "      <th></th>\n",
       "      <th></th>\n",
       "      <th></th>\n",
       "    </tr>\n",
       "  </thead>\n",
       "  <tbody>\n",
       "    <tr>\n",
       "      <th>2015-02-09</th>\n",
       "      <td>215.38</td>\n",
       "      <td>217.9300</td>\n",
       "      <td>211.99</td>\n",
       "      <td>217.48</td>\n",
       "      <td>3472423</td>\n",
       "    </tr>\n",
       "    <tr>\n",
       "      <th>2015-02-10</th>\n",
       "      <td>217.55</td>\n",
       "      <td>220.5000</td>\n",
       "      <td>215.00</td>\n",
       "      <td>216.29</td>\n",
       "      <td>5390542</td>\n",
       "    </tr>\n",
       "    <tr>\n",
       "      <th>2015-02-11</th>\n",
       "      <td>212.21</td>\n",
       "      <td>214.7400</td>\n",
       "      <td>207.28</td>\n",
       "      <td>212.80</td>\n",
       "      <td>9769102</td>\n",
       "    </tr>\n",
       "    <tr>\n",
       "      <th>2015-02-12</th>\n",
       "      <td>193.57</td>\n",
       "      <td>203.0882</td>\n",
       "      <td>193.28</td>\n",
       "      <td>202.88</td>\n",
       "      <td>15649607</td>\n",
       "    </tr>\n",
       "    <tr>\n",
       "      <th>2015-02-13</th>\n",
       "      <td>202.90</td>\n",
       "      <td>205.9900</td>\n",
       "      <td>200.91</td>\n",
       "      <td>203.77</td>\n",
       "      <td>6191003</td>\n",
       "    </tr>\n",
       "  </tbody>\n",
       "</table>\n",
       "</div>"
      ],
      "text/plain": [
       "              open      high     low   close    volume\n",
       "date                                                  \n",
       "2015-02-09  215.38  217.9300  211.99  217.48   3472423\n",
       "2015-02-10  217.55  220.5000  215.00  216.29   5390542\n",
       "2015-02-11  212.21  214.7400  207.28  212.80   9769102\n",
       "2015-02-12  193.57  203.0882  193.28  202.88  15649607\n",
       "2015-02-13  202.90  205.9900  200.91  203.77   6191003"
      ]
     },
     "execution_count": 101,
     "metadata": {},
     "output_type": "execute_result"
    }
   ],
   "source": [
    "f2 = f2.head()\n",
    "f2"
   ]
  },
  {
   "cell_type": "code",
   "execution_count": 75,
   "metadata": {},
   "outputs": [
    {
     "name": "stdout",
     "output_type": "stream",
     "text": [
      "215.38\n",
      "217.55\n",
      "212.21\n",
      "193.57\n",
      "202.9\n"
     ]
    }
   ],
   "source": [
    "# for index, row in df.iterrows():\n",
    "#     print (row['link'])\n",
    "\n",
    "for index, row in f2.iterrows():\n",
    "    print (row['open'])"
   ]
  },
  {
   "cell_type": "code",
   "execution_count": 76,
   "metadata": {},
   "outputs": [
    {
     "name": "stdout",
     "output_type": "stream",
     "text": [
      "2015-02-09\n",
      "2015-02-10\n",
      "2015-02-11\n",
      "2015-02-12\n",
      "2015-02-13\n"
     ]
    }
   ],
   "source": [
    "for index, row in f2.iterrows():\n",
    "    print (index)"
   ]
  },
  {
   "cell_type": "code",
   "execution_count": 92,
   "metadata": {},
   "outputs": [],
   "source": [
    "all_comments = pd.read_csv('all-comments.csv')\n",
    "all_comments.head()\n",
    "comment_dt = datetime(2019, 2, 1).strftime('%Y-%m-%d')"
   ]
  },
  {
   "cell_type": "code",
   "execution_count": 93,
   "metadata": {},
   "outputs": [
    {
     "data": {
      "text/plain": [
       "'2019-02-01'"
      ]
     },
     "execution_count": 93,
     "metadata": {},
     "output_type": "execute_result"
    }
   ],
   "source": [
    "comment_dt"
   ]
  },
  {
   "cell_type": "code",
   "execution_count": 88,
   "metadata": {},
   "outputs": [
    {
     "ename": "TypeError",
     "evalue": "'>' not supported between instances of 'str' and 'datetime.datetime'",
     "output_type": "error",
     "traceback": [
      "\u001b[1;31m---------------------------------------------------------------------------\u001b[0m",
      "\u001b[1;31mTypeError\u001b[0m                                 Traceback (most recent call last)",
      "\u001b[1;32m<ipython-input-88-8981cebcb5c9>\u001b[0m in \u001b[0;36m<module>\u001b[1;34m()\u001b[0m\n\u001b[0;32m      1\u001b[0m \u001b[0mcomment_dt\u001b[0m \u001b[1;33m=\u001b[0m \u001b[0mdatetime\u001b[0m\u001b[1;33m(\u001b[0m\u001b[1;36m2019\u001b[0m\u001b[1;33m,\u001b[0m \u001b[1;36m2\u001b[0m\u001b[1;33m,\u001b[0m \u001b[1;36m1\u001b[0m\u001b[1;33m)\u001b[0m\u001b[1;33m\u001b[0m\u001b[0m\n\u001b[1;32m----> 2\u001b[1;33m \u001b[0mrecent_comments\u001b[0m \u001b[1;33m=\u001b[0m \u001b[0mall_comments\u001b[0m\u001b[1;33m[\u001b[0m\u001b[0mall_comments\u001b[0m\u001b[1;33m[\u001b[0m\u001b[1;34m'date'\u001b[0m\u001b[1;33m]\u001b[0m \u001b[1;33m>\u001b[0m \u001b[0mcomment_dt\u001b[0m\u001b[1;33m]\u001b[0m  \u001b[1;31m# new df with only comments after\u001b[0m\u001b[1;33m\u001b[0m\u001b[0m\n\u001b[0m\u001b[0;32m      3\u001b[0m \u001b[0mrecent_comments\u001b[0m\u001b[1;33m.\u001b[0m\u001b[0mhead\u001b[0m\u001b[1;33m(\u001b[0m\u001b[1;33m)\u001b[0m\u001b[1;33m\u001b[0m\u001b[0m\n",
      "\u001b[1;32m~\\Anaconda3\\envs\\datascience\\lib\\site-packages\\pandas\\core\\ops.py\u001b[0m in \u001b[0;36mwrapper\u001b[1;34m(self, other, axis)\u001b[0m\n\u001b[0;32m   1281\u001b[0m \u001b[1;33m\u001b[0m\u001b[0m\n\u001b[0;32m   1282\u001b[0m             \u001b[1;32mwith\u001b[0m \u001b[0mnp\u001b[0m\u001b[1;33m.\u001b[0m\u001b[0merrstate\u001b[0m\u001b[1;33m(\u001b[0m\u001b[0mall\u001b[0m\u001b[1;33m=\u001b[0m\u001b[1;34m'ignore'\u001b[0m\u001b[1;33m)\u001b[0m\u001b[1;33m:\u001b[0m\u001b[1;33m\u001b[0m\u001b[0m\n\u001b[1;32m-> 1283\u001b[1;33m                 \u001b[0mres\u001b[0m \u001b[1;33m=\u001b[0m \u001b[0mna_op\u001b[0m\u001b[1;33m(\u001b[0m\u001b[0mvalues\u001b[0m\u001b[1;33m,\u001b[0m \u001b[0mother\u001b[0m\u001b[1;33m)\u001b[0m\u001b[1;33m\u001b[0m\u001b[0m\n\u001b[0m\u001b[0;32m   1284\u001b[0m             \u001b[1;32mif\u001b[0m \u001b[0mis_scalar\u001b[0m\u001b[1;33m(\u001b[0m\u001b[0mres\u001b[0m\u001b[1;33m)\u001b[0m\u001b[1;33m:\u001b[0m\u001b[1;33m\u001b[0m\u001b[0m\n\u001b[0;32m   1285\u001b[0m                 raise TypeError('Could not compare {typ} type with Series'\n",
      "\u001b[1;32m~\\Anaconda3\\envs\\datascience\\lib\\site-packages\\pandas\\core\\ops.py\u001b[0m in \u001b[0;36mna_op\u001b[1;34m(x, y)\u001b[0m\n\u001b[0;32m   1141\u001b[0m \u001b[1;33m\u001b[0m\u001b[0m\n\u001b[0;32m   1142\u001b[0m         \u001b[1;32melif\u001b[0m \u001b[0mis_object_dtype\u001b[0m\u001b[1;33m(\u001b[0m\u001b[0mx\u001b[0m\u001b[1;33m.\u001b[0m\u001b[0mdtype\u001b[0m\u001b[1;33m)\u001b[0m\u001b[1;33m:\u001b[0m\u001b[1;33m\u001b[0m\u001b[0m\n\u001b[1;32m-> 1143\u001b[1;33m             \u001b[0mresult\u001b[0m \u001b[1;33m=\u001b[0m \u001b[0m_comp_method_OBJECT_ARRAY\u001b[0m\u001b[1;33m(\u001b[0m\u001b[0mop\u001b[0m\u001b[1;33m,\u001b[0m \u001b[0mx\u001b[0m\u001b[1;33m,\u001b[0m \u001b[0my\u001b[0m\u001b[1;33m)\u001b[0m\u001b[1;33m\u001b[0m\u001b[0m\n\u001b[0m\u001b[0;32m   1144\u001b[0m \u001b[1;33m\u001b[0m\u001b[0m\n\u001b[0;32m   1145\u001b[0m         \u001b[1;32melif\u001b[0m \u001b[0mis_datetimelike_v_numeric\u001b[0m\u001b[1;33m(\u001b[0m\u001b[0mx\u001b[0m\u001b[1;33m,\u001b[0m \u001b[0my\u001b[0m\u001b[1;33m)\u001b[0m\u001b[1;33m:\u001b[0m\u001b[1;33m\u001b[0m\u001b[0m\n",
      "\u001b[1;32m~\\Anaconda3\\envs\\datascience\\lib\\site-packages\\pandas\\core\\ops.py\u001b[0m in \u001b[0;36m_comp_method_OBJECT_ARRAY\u001b[1;34m(op, x, y)\u001b[0m\n\u001b[0;32m   1120\u001b[0m         \u001b[0mresult\u001b[0m \u001b[1;33m=\u001b[0m \u001b[0mlibops\u001b[0m\u001b[1;33m.\u001b[0m\u001b[0mvec_compare\u001b[0m\u001b[1;33m(\u001b[0m\u001b[0mx\u001b[0m\u001b[1;33m,\u001b[0m \u001b[0my\u001b[0m\u001b[1;33m,\u001b[0m \u001b[0mop\u001b[0m\u001b[1;33m)\u001b[0m\u001b[1;33m\u001b[0m\u001b[0m\n\u001b[0;32m   1121\u001b[0m     \u001b[1;32melse\u001b[0m\u001b[1;33m:\u001b[0m\u001b[1;33m\u001b[0m\u001b[0m\n\u001b[1;32m-> 1122\u001b[1;33m         \u001b[0mresult\u001b[0m \u001b[1;33m=\u001b[0m \u001b[0mlibops\u001b[0m\u001b[1;33m.\u001b[0m\u001b[0mscalar_compare\u001b[0m\u001b[1;33m(\u001b[0m\u001b[0mx\u001b[0m\u001b[1;33m,\u001b[0m \u001b[0my\u001b[0m\u001b[1;33m,\u001b[0m \u001b[0mop\u001b[0m\u001b[1;33m)\u001b[0m\u001b[1;33m\u001b[0m\u001b[0m\n\u001b[0m\u001b[0;32m   1123\u001b[0m     \u001b[1;32mreturn\u001b[0m \u001b[0mresult\u001b[0m\u001b[1;33m\u001b[0m\u001b[0m\n\u001b[0;32m   1124\u001b[0m \u001b[1;33m\u001b[0m\u001b[0m\n",
      "\u001b[1;32mpandas\\_libs\\ops.pyx\u001b[0m in \u001b[0;36mpandas._libs.ops.scalar_compare\u001b[1;34m()\u001b[0m\n",
      "\u001b[1;31mTypeError\u001b[0m: '>' not supported between instances of 'str' and 'datetime.datetime'"
     ]
    }
   ],
   "source": [
    "comment_dt = datetime(2019, 2, 1)\n",
    "recent_comments = all_comments[all_comments['date'] > comment_dt]  # new df with only comments after\n",
    "recent_comments.head()"
   ]
  },
  {
   "cell_type": "code",
   "execution_count": 46,
   "metadata": {},
   "outputs": [
    {
     "data": {
      "text/plain": [
       "Index(['GM', 'BKS', 'ORCL', 'WIN', 'UNP', 'LOW', 'GE', 'XRX', 'PEP', 'SHLD',\n",
       "       'CVS', 'DVN', 'BK', 'DXC', 'VZ', 'QCOM', 'WMT', 'ATUS', 'WFC', 'HON',\n",
       "       'AIG', 'IBM', 'SPLS', 'BBBY', 'BAC', 'HUM', 'STX', 'TRI', 'CSCO',\n",
       "       'JNPR', 'MAT', 'ENB', 'WFM', 'SLB', 'STT', 'DELL', 'CTL', 'DV', 'BHGE',\n",
       "       'MOH', 'CVX', 'DST', 'CHK', 'DRQ', 'MRO', 'EBAY', 'WFT', 'HAL', 'SAP',\n",
       "       'NSC'],\n",
       "      dtype='object')"
      ]
     },
     "execution_count": 46,
     "metadata": {},
     "output_type": "execute_result"
    }
   ],
   "source": [
    "recent_comments = recent_comments['ticker'].value_counts().head(50).index\n",
    "recent_comments"
   ]
  },
  {
   "cell_type": "code",
   "execution_count": null,
   "metadata": {},
   "outputs": [],
   "source": []
  }
 ],
 "metadata": {
  "kernelspec": {
   "display_name": "Python 3",
   "language": "python",
   "name": "python3"
  },
  "language_info": {
   "codemirror_mode": {
    "name": "ipython",
    "version": 3
   },
   "file_extension": ".py",
   "mimetype": "text/x-python",
   "name": "python",
   "nbconvert_exporter": "python",
   "pygments_lexer": "ipython3",
   "version": "3.8.2"
  }
 },
 "nbformat": 4,
 "nbformat_minor": 2
}
